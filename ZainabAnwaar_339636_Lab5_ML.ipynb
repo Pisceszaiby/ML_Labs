{
  "nbformat": 4,
  "nbformat_minor": 0,
  "metadata": {
    "colab": {
      "provenance": []
    },
    "kernelspec": {
      "name": "python3",
      "display_name": "Python 3"
    },
    "language_info": {
      "name": "python"
    }
  },
  "cells": [
    {
      "cell_type": "markdown",
      "source": [
        "**Submitted By: Zainab Anwaar**"
      ],
      "metadata": {
        "id": "7Cxv3pjD1Z-D"
      }
    },
    {
      "cell_type": "markdown",
      "source": [
        "**CMS ID: 339636**\n"
      ],
      "metadata": {
        "id": "wkB8DroC1dyb"
      }
    },
    {
      "cell_type": "markdown",
      "source": [
        "**Task 1**"
      ],
      "metadata": {
        "id": "xS45Vcacnuql"
      }
    },
    {
      "cell_type": "code",
      "execution_count": 44,
      "metadata": {
        "id": "G3b4iN6j1QdA"
      },
      "outputs": [],
      "source": [
        "import pandas as pd \n",
        "import numpy as np \n",
        "from sklearn import metrics\n",
        "import matplotlib.pyplot as plt \n",
        "import PIL.Image as pil\n",
        "%matplotlib inline \n"
      ]
    },
    {
      "cell_type": "markdown",
      "source": [
        "Using Keras MNIST Dataset"
      ],
      "metadata": {
        "id": "VzcijjYdjxmw"
      }
    },
    {
      "cell_type": "code",
      "source": [
        "from tensorflow.keras.datasets import mnist\n"
      ],
      "metadata": {
        "id": "VqIzhqwQ1ewr"
      },
      "execution_count": 45,
      "outputs": []
    },
    {
      "cell_type": "markdown",
      "source": [
        "Splitting Dataset"
      ],
      "metadata": {
        "id": "wxemHvYOjv9A"
      }
    },
    {
      "cell_type": "code",
      "source": [
        "(x_train, y_train), (x_test, y_test) = mnist.load_data()"
      ],
      "metadata": {
        "id": "TXaJFUmeA19m"
      },
      "execution_count": 46,
      "outputs": []
    },
    {
      "cell_type": "code",
      "source": [
        "assert x_train.shape == (60000, 28, 28)\n",
        "assert x_test.shape == (10000, 28, 28)\n",
        "assert y_train.shape == (60000,)\n",
        "assert y_test.shape == (10000,)"
      ],
      "metadata": {
        "id": "uV7Jvui-Bf-j"
      },
      "execution_count": 47,
      "outputs": []
    },
    {
      "cell_type": "markdown",
      "source": [
        "Normalizing the dataset"
      ],
      "metadata": {
        "id": "rxxS23-pjlSi"
      }
    },
    {
      "cell_type": "code",
      "source": [
        "x_train=x_train/255\n",
        "x_test=x_test/255\n"
      ],
      "metadata": {
        "id": "wG7MO-T6_FXU"
      },
      "execution_count": 48,
      "outputs": []
    },
    {
      "cell_type": "markdown",
      "source": [
        "**Task 2**"
      ],
      "metadata": {
        "id": "LrclC7_Tn96j"
      }
    },
    {
      "cell_type": "markdown",
      "source": [
        "Showing Image of 670th Sample of training data"
      ],
      "metadata": {
        "id": "9vxS8XLhjbEG"
      }
    },
    {
      "cell_type": "code",
      "source": [
        "plt.imshow(x_train[669])\n"
      ],
      "metadata": {
        "colab": {
          "base_uri": "https://localhost:8080/",
          "height": 282
        },
        "id": "SK_xmPvTCOx3",
        "outputId": "e9bf0357-c402-4bf6-c613-28d000dda623"
      },
      "execution_count": 49,
      "outputs": [
        {
          "output_type": "execute_result",
          "data": {
            "text/plain": [
              "<matplotlib.image.AxesImage at 0x7f790ff0d4c0>"
            ]
          },
          "metadata": {},
          "execution_count": 49
        },
        {
          "output_type": "display_data",
          "data": {
            "text/plain": [
              "<Figure size 432x288 with 1 Axes>"
            ],
            "image/png": "[encoded data removed]"
          },
          "metadata": {
            "needs_background": "light"
          }
        }
      ]
    },
    {
      "cell_type": "markdown",
      "source": [
        "**Task 3 and 4**"
      ],
      "metadata": {
        "id": "TrCAQ0fgoAAM"
      }
    },
    {
      "cell_type": "markdown",
      "source": [
        "Changing Dimention"
      ],
      "metadata": {
        "id": "tyMf_Z63jW19"
      }
    },
    {
      "cell_type": "code",
      "source": [
        "x_train = x_train.reshape((x_train.shape[0], -1))\n",
        "x_test = x_test.reshape((x_test.shape[0], -1))\n",
        "x_train"
      ],
      "metadata": {
        "colab": {
          "base_uri": "https://localhost:8080/"
        },
        "id": "uFz35qjkE-Ym",
        "outputId": "1ef48c6e-21b7-4740-c31b-92720c7c52e2"
      },
      "execution_count": 50,
      "outputs": [
        {
          "output_type": "execute_result",
          "data": {
            "text/plain": [
              "array([[0., 0., 0., ..., 0., 0., 0.],\n",
              "       [0., 0., 0., ..., 0., 0., 0.],\n",
              "       [0., 0., 0., ..., 0., 0., 0.],\n",
              "       ...,\n",
              "       [0., 0., 0., ..., 0., 0., 0.],\n",
              "       [0., 0., 0., ..., 0., 0., 0.],\n",
              "       [0., 0., 0., ..., 0., 0., 0.]])"
            ]
          },
          "metadata": {},
          "execution_count": 50
        }
      ]
    },
    {
      "cell_type": "code",
      "source": [
        "import numpy as np\n",
        "\n",
        "class Perceptron:\n",
        "    def __init__(self, learning_rate=0.1, n_epochs=100):\n",
        "        self.learning_rate = learning_rate\n",
        "        self.n_epochs = n_epochs\n",
        "\n",
        "    def fit(self, X, y):\n",
        " \n",
        "        X = np.insert(X, 0, 1, axis=1)\n",
        "        self.weights = np.random.randn(X.shape[1])\n",
        "\n",
        "        for epoch in range(self.n_epochs):\n",
        "\n",
        "            net_input = np.dot(X, self.weights)\n",
        "            output = self.activation(net_input)\n",
        "  \n",
        "            errors = y - output\n",
        "            self.weights += self.learning_rate * np.dot(X.T, errors)\n",
        "\n",
        "    def predict(self, X):\n",
        "\n",
        "        X = np.insert(X, 0, 1, axis=1)\n",
        "\n",
        "        net_input = np.dot(X, self.weights)\n",
        "        return self.activation(net_input)\n",
        "\n",
        "    def activation(self, X):\n",
        "        return np.where(X >= 0, 1, -1)\n",
        "    def score(self, X, y):\n",
        "        y_pred = self.predict(X)\n",
        "        accuracy = np.mean(y == y_pred)\n",
        "        return accuracy\n"
      ],
      "metadata": {
        "id": "4xPTeuUPkECP"
      },
      "execution_count": 51,
      "outputs": []
    },
    {
      "cell_type": "markdown",
      "source": [
        "**Task 5**"
      ],
      "metadata": {
        "id": "Vj4yQD77oGl0"
      }
    },
    {
      "cell_type": "markdown",
      "source": [
        "Training Data and Evaluating Score of the Algorithm"
      ],
      "metadata": {
        "id": "ZsKLn0Kkmvhl"
      }
    },
    {
      "cell_type": "code",
      "source": [
        "perceptron = Perceptron(learning_rate=0.001, n_epochs=100)\n",
        "perceptron.fit(x_train, y_train)\n",
        "predictions = perceptron.predict(x_test)\n",
        "perceptron.score(x_test,y_test)"
      ],
      "metadata": {
        "colab": {
          "base_uri": "https://localhost:8080/"
        },
        "id": "-A2qyDTykuYw",
        "outputId": "41e6b478-b855-41e8-eea6-3a1498e28fea"
      },
      "execution_count": 52,
      "outputs": [
        {
          "output_type": "execute_result",
          "data": {
            "text/plain": [
              "0.1135"
            ]
          },
          "metadata": {},
          "execution_count": 52
        }
      ]
    },
    {
      "cell_type": "markdown",
      "source": [
        "Using Perceptron Sklearn Library"
      ],
      "metadata": {
        "id": "a-xaZaY-jQT3"
      }
    },
    {
      "cell_type": "code",
      "source": [
        "from sklearn.linear_model import Perceptron\n",
        "\n",
        "\n",
        "sk_perceptron = Perceptron()\n",
        "sk_perceptron.fit(x_train, y_train)\n",
        "sk_perceptron.score(x_test, y_test)\n",
        "\n"
      ],
      "metadata": {
        "colab": {
          "base_uri": "https://localhost:8080/"
        },
        "id": "3t-kE7o4eJJX",
        "outputId": "eb1f9c41-01c4-4811-f73f-81daa587fca5"
      },
      "execution_count": 53,
      "outputs": [
        {
          "output_type": "execute_result",
          "data": {
            "text/plain": [
              "0.8805"
            ]
          },
          "metadata": {},
          "execution_count": 53
        }
      ]
    },
    {
      "cell_type": "markdown",
      "source": [
        "**Task 6**"
      ],
      "metadata": {
        "id": "bGtnM-DeoJ-M"
      }
    },
    {
      "cell_type": "markdown",
      "source": [
        "The difference of the Perceptron model from sklearn and the Perceptron Customized class is due to the fact that our model only deals with 2 classes"
      ],
      "metadata": {
        "id": "WIyCoiUzmzJ1"
      }
    }
  ]
}