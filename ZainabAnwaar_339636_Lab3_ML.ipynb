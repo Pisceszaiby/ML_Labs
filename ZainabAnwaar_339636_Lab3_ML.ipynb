{
  "cells": [
    {
      "cell_type": "markdown",
      "source": [
        "**Submitted By: Zainab Anwaar (339636)**"
      ],
      "metadata": {
        "id": "RzKuVFkz5stk"
      }
    },
    {
      "cell_type": "markdown",
      "source": [
        "\n",
        "Importing Libraries and Modules"
      ],
      "metadata": {
        "id": "osKC70PTdpP6"
      }
    },
    {
      "cell_type": "code",
      "execution_count": 125,
      "metadata": {
        "id": "aL0Ax48Azldc"
      },
      "outputs": [],
      "source": [
        "import pandas as pd \n",
        "import numpy as np \n",
        "from sklearn import model_selection\n",
        "from sklearn.model_selection import GridSearchCV\n",
        "from sklearn import tree \n",
        "import matplotlib.pyplot as plt \n",
        "from sklearn.preprocessing import OrdinalEncoder\n",
        "from sklearn.preprocessing import LabelEncoder\n",
        "%matplotlib inline \n",
        "import graphviz "
      ]
    },
    {
      "cell_type": "markdown",
      "source": [
        "Loading Data from car.data file"
      ],
      "metadata": {
        "id": "2yG_koypd2B-"
      }
    },
    {
      "cell_type": "code",
      "execution_count": 126,
      "metadata": {
        "colab": {
          "base_uri": "https://localhost:8080/",
          "height": 206
        },
        "id": "mY_nUpbHzvU_",
        "outputId": "b0baba5a-b67a-4d95-9b0f-b05ee3f6e0ce"
      },
      "outputs": [
        {
          "output_type": "execute_result",
          "data": {
            "text/plain": [
              "  buying  maint doors persons lug_boot safety target\n",
              "0  vhigh  vhigh     2       2    small    med  unacc\n",
              "1  vhigh  vhigh     2       2    small   high  unacc\n",
              "2  vhigh  vhigh     2       2      med    low  unacc\n",
              "3  vhigh  vhigh     2       2      med    med  unacc\n",
              "4  vhigh  vhigh     2       2      med   high  unacc"
            ],
            "text/html": [
              "\n",
              "  <div id=\"df-31db1417-c62c-424b-8a22-c34c6b0fa4fe\">\n",
              "    <div class=\"colab-df-container\">\n",
              "      <div>\n",
              "<style scoped>\n",
              "    .dataframe tbody tr th:only-of-type {\n",
              "        vertical-align: middle;\n",
              "    }\n",
              "\n",
              "    .dataframe tbody tr th {\n",
              "        vertical-align: top;\n",
              "    }\n",
              "\n",
              "    .dataframe thead th {\n",
              "        text-align: right;\n",
              "    }\n",
              "</style>\n",
              "<table border=\"1\" class=\"dataframe\">\n",
              "  <thead>\n",
              "    <tr style=\"text-align: right;\">\n",
              "      <th></th>\n",
              "      <th>buying</th>\n",
              "      <th>maint</th>\n",
              "      <th>doors</th>\n",
              "      <th>persons</th>\n",
              "      <th>lug_boot</th>\n",
              "      <th>safety</th>\n",
              "      <th>target</th>\n",
              "    </tr>\n",
              "  </thead>\n",
              "  <tbody>\n",
              "    <tr>\n",
              "      <th>0</th>\n",
              "      <td>vhigh</td>\n",
              "      <td>vhigh</td>\n",
              "      <td>2</td>\n",
              "      <td>2</td>\n",
              "      <td>small</td>\n",
              "      <td>med</td>\n",
              "      <td>unacc</td>\n",
              "    </tr>\n",
              "    <tr>\n",
              "      <th>1</th>\n",
              "      <td>vhigh</td>\n",
              "      <td>vhigh</td>\n",
              "      <td>2</td>\n",
              "      <td>2</td>\n",
              "      <td>small</td>\n",
              "      <td>high</td>\n",
              "      <td>unacc</td>\n",
              "    </tr>\n",
              "    <tr>\n",
              "      <th>2</th>\n",
              "      <td>vhigh</td>\n",
              "      <td>vhigh</td>\n",
              "      <td>2</td>\n",
              "      <td>2</td>\n",
              "      <td>med</td>\n",
              "      <td>low</td>\n",
              "      <td>unacc</td>\n",
              "    </tr>\n",
              "    <tr>\n",
              "      <th>3</th>\n",
              "      <td>vhigh</td>\n",
              "      <td>vhigh</td>\n",
              "      <td>2</td>\n",
              "      <td>2</td>\n",
              "      <td>med</td>\n",
              "      <td>med</td>\n",
              "      <td>unacc</td>\n",
              "    </tr>\n",
              "    <tr>\n",
              "      <th>4</th>\n",
              "      <td>vhigh</td>\n",
              "      <td>vhigh</td>\n",
              "      <td>2</td>\n",
              "      <td>2</td>\n",
              "      <td>med</td>\n",
              "      <td>high</td>\n",
              "      <td>unacc</td>\n",
              "    </tr>\n",
              "  </tbody>\n",
              "</table>\n",
              "</div>\n",
              "      <button class=\"colab-df-convert\" onclick=\"convertToInteractive('df-31db1417-c62c-424b-8a22-c34c6b0fa4fe')\"\n",
              "              title=\"Convert this dataframe to an interactive table.\"\n",
              "              style=\"display:none;\">\n",
              "        \n",
              "  <svg xmlns=\"http://www.w3.org/2000/svg\" height=\"24px\"viewBox=\"0 0 24 24\"\n",
              "       width=\"24px\">\n",
              "    <path d=\"M0 0h24v24H0V0z\" fill=\"none\"/>\n",
              "    <path d=\"M18.56 5.44l.94 2.06.94-2.06 2.06-.94-2.06-.94-.94-2.06-.94 2.06-2.06.94zm-11 1L8.5 8.5l.94-2.06 2.06-.94-2.06-.94L8.5 2.5l-.94 2.06-2.06.94zm10 10l.94 2.06.94-2.06 2.06-.94-2.06-.94-.94-2.06-.94 2.06-2.06.94z\"/><path d=\"M17.41 7.96l-1.37-1.37c-.4-.4-.92-.59-1.43-.59-.52 0-1.04.2-1.43.59L10.3 9.45l-7.72 7.72c-.78.78-.78 2.05 0 2.83L4 21.41c.39.39.9.59 1.41.59.51 0 1.02-.2 1.41-.59l7.78-7.78 2.81-2.81c.8-.78.8-2.07 0-2.86zM5.41 20L4 18.59l7.72-7.72 1.47 1.35L5.41 20z\"/>\n",
              "  </svg>\n",
              "      </button>\n",
              "      \n",
              "  <style>\n",
              "    .colab-df-container {\n",
              "      display:flex;\n",
              "      flex-wrap:wrap;\n",
              "      gap: 12px;\n",
              "    }\n",
              "\n",
              "    .colab-df-convert {\n",
              "      background-color: #E8F0FE;\n",
              "      border: none;\n",
              "      border-radius: 50%;\n",
              "      cursor: pointer;\n",
              "      display: none;\n",
              "      fill: #1967D2;\n",
              "      height: 32px;\n",
              "      padding: 0 0 0 0;\n",
              "      width: 32px;\n",
              "    }\n",
              "\n",
              "    .colab-df-convert:hover {\n",
              "      background-color: #E2EBFA;\n",
              "      box-shadow: 0px 1px 2px rgba(60, 64, 67, 0.3), 0px 1px 3px 1px rgba(60, 64, 67, 0.15);\n",
              "      fill: #174EA6;\n",
              "    }\n",
              "\n",
              "    [theme=dark] .colab-df-convert {\n",
              "      background-color: #3B4455;\n",
              "      fill: #D2E3FC;\n",
              "    }\n",
              "\n",
              "    [theme=dark] .colab-df-convert:hover {\n",
              "      background-color: #434B5C;\n",
              "      box-shadow: 0px 1px 3px 1px rgba(0, 0, 0, 0.15);\n",
              "      filter: drop-shadow(0px 1px 2px rgba(0, 0, 0, 0.3));\n",
              "      fill: #FFFFFF;\n",
              "    }\n",
              "  </style>\n",
              "\n",
              "      <script>\n",
              "        const buttonEl =\n",
              "          document.querySelector('#df-31db1417-c62c-424b-8a22-c34c6b0fa4fe button.colab-df-convert');\n",
              "        buttonEl.style.display =\n",
              "          google.colab.kernel.accessAllowed ? 'block' : 'none';\n",
              "\n",
              "        async function convertToInteractive(key) {\n",
              "          const element = document.querySelector('#df-31db1417-c62c-424b-8a22-c34c6b0fa4fe');\n",
              "          const dataTable =\n",
              "            await google.colab.kernel.invokeFunction('convertToInteractive',\n",
              "                                                     [key], {});\n",
              "          if (!dataTable) return;\n",
              "\n",
              "          const docLinkHtml = 'Like what you see? Visit the ' +\n",
              "            '<a target=\"_blank\" href=https://colab.research.google.com/notebooks/data_table.ipynb>data table notebook</a>'\n",
              "            + ' to learn more about interactive tables.';\n",
              "          element.innerHTML = '';\n",
              "          dataTable['output_type'] = 'display_data';\n",
              "          await google.colab.output.renderOutput(dataTable, element);\n",
              "          const docLink = document.createElement('div');\n",
              "          docLink.innerHTML = docLinkHtml;\n",
              "          element.appendChild(docLink);\n",
              "        }\n",
              "      </script>\n",
              "    </div>\n",
              "  </div>\n",
              "  "
            ]
          },
          "metadata": {},
          "execution_count": 126
        }
      ],
      "source": [
        "df=pd.read_csv('car.data')\n",
        "df.head()\n",
        "df.columns = ['buying', 'maint', 'doors', 'persons', 'lug_boot', 'safety', 'target']\n",
        "df.head()\n"
      ]
    },
    {
      "cell_type": "markdown",
      "source": [
        "To see the properties of the data set\n"
      ],
      "metadata": {
        "id": "fZVWg610eC02"
      }
    },
    {
      "cell_type": "code",
      "execution_count": 127,
      "metadata": {
        "colab": {
          "base_uri": "https://localhost:8080/"
        },
        "id": "GCAxZ4HN-0ql",
        "outputId": "4f4670c1-a5ae-4ad8-ebac-744fd9af284b"
      },
      "outputs": [
        {
          "output_type": "stream",
          "name": "stdout",
          "text": [
            "<class 'pandas.core.frame.DataFrame'>\n",
            "RangeIndex: 1727 entries, 0 to 1726\n",
            "Data columns (total 7 columns):\n",
            " #   Column    Non-Null Count  Dtype \n",
            "---  ------    --------------  ----- \n",
            " 0   buying    1727 non-null   object\n",
            " 1   maint     1727 non-null   object\n",
            " 2   doors     1727 non-null   object\n",
            " 3   persons   1727 non-null   object\n",
            " 4   lug_boot  1727 non-null   object\n",
            " 5   safety    1727 non-null   object\n",
            " 6   target    1727 non-null   object\n",
            "dtypes: object(7)\n",
            "memory usage: 94.6+ KB\n"
          ]
        }
      ],
      "source": [
        "df.info()"
      ]
    },
    {
      "cell_type": "code",
      "source": [
        "df.isnull() # to check if there are any missing values"
      ],
      "metadata": {
        "colab": {
          "base_uri": "https://localhost:8080/",
          "height": 424
        },
        "id": "qUsSDJeQeM3z",
        "outputId": "9b4ba5b4-59cd-414b-876e-e72f12c90ea5"
      },
      "execution_count": 128,
      "outputs": [
        {
          "output_type": "execute_result",
          "data": {
            "text/plain": [
              "      buying  maint  doors  persons  lug_boot  safety  target\n",
              "0      False  False  False    False     False   False   False\n",
              "1      False  False  False    False     False   False   False\n",
              "2      False  False  False    False     False   False   False\n",
              "3      False  False  False    False     False   False   False\n",
              "4      False  False  False    False     False   False   False\n",
              "...      ...    ...    ...      ...       ...     ...     ...\n",
              "1722   False  False  False    False     False   False   False\n",
              "1723   False  False  False    False     False   False   False\n",
              "1724   False  False  False    False     False   False   False\n",
              "1725   False  False  False    False     False   False   False\n",
              "1726   False  False  False    False     False   False   False\n",
              "\n",
              "[1727 rows x 7 columns]"
            ],
            "text/html": [
              "\n",
              "  <div id=\"df-c5885cac-3296-440d-894e-93260d13134d\">\n",
              "    <div class=\"colab-df-container\">\n",
              "      <div>\n",
              "<style scoped>\n",
              "    .dataframe tbody tr th:only-of-type {\n",
              "        vertical-align: middle;\n",
              "    }\n",
              "\n",
              "    .dataframe tbody tr th {\n",
              "        vertical-align: top;\n",
              "    }\n",
              "\n",
              "    .dataframe thead th {\n",
              "        text-align: right;\n",
              "    }\n",
              "</style>\n",
              "<table border=\"1\" class=\"dataframe\">\n",
              "  <thead>\n",
              "    <tr style=\"text-align: right;\">\n",
              "      <th></th>\n",
              "      <th>buying</th>\n",
              "      <th>maint</th>\n",
              "      <th>doors</th>\n",
              "      <th>persons</th>\n",
              "      <th>lug_boot</th>\n",
              "      <th>safety</th>\n",
              "      <th>target</th>\n",
              "    </tr>\n",
              "  </thead>\n",
              "  <tbody>\n",
              "    <tr>\n",
              "      <th>0</th>\n",
              "      <td>False</td>\n",
              "      <td>False</td>\n",
              "      <td>False</td>\n",
              "      <td>False</td>\n",
              "      <td>False</td>\n",
              "      <td>False</td>\n",
              "      <td>False</td>\n",
              "    </tr>\n",
              "    <tr>\n",
              "      <th>1</th>\n",
              "      <td>False</td>\n",
              "      <td>False</td>\n",
              "      <td>False</td>\n",
              "      <td>False</td>\n",
              "      <td>False</td>\n",
              "      <td>False</td>\n",
              "      <td>False</td>\n",
              "    </tr>\n",
              "    <tr>\n",
              "      <th>2</th>\n",
              "      <td>False</td>\n",
              "      <td>False</td>\n",
              "      <td>False</td>\n",
              "      <td>False</td>\n",
              "      <td>False</td>\n",
              "      <td>False</td>\n",
              "      <td>False</td>\n",
              "    </tr>\n",
              "    <tr>\n",
              "      <th>3</th>\n",
              "      <td>False</td>\n",
              "      <td>False</td>\n",
              "      <td>False</td>\n",
              "      <td>False</td>\n",
              "      <td>False</td>\n",
              "      <td>False</td>\n",
              "      <td>False</td>\n",
              "    </tr>\n",
              "    <tr>\n",
              "      <th>4</th>\n",
              "      <td>False</td>\n",
              "      <td>False</td>\n",
              "      <td>False</td>\n",
              "      <td>False</td>\n",
              "      <td>False</td>\n",
              "      <td>False</td>\n",
              "      <td>False</td>\n",
              "    </tr>\n",
              "    <tr>\n",
              "      <th>...</th>\n",
              "      <td>...</td>\n",
              "      <td>...</td>\n",
              "      <td>...</td>\n",
              "      <td>...</td>\n",
              "      <td>...</td>\n",
              "      <td>...</td>\n",
              "      <td>...</td>\n",
              "    </tr>\n",
              "    <tr>\n",
              "      <th>1722</th>\n",
              "      <td>False</td>\n",
              "      <td>False</td>\n",
              "      <td>False</td>\n",
              "      <td>False</td>\n",
              "      <td>False</td>\n",
              "      <td>False</td>\n",
              "      <td>False</td>\n",
              "    </tr>\n",
              "    <tr>\n",
              "      <th>1723</th>\n",
              "      <td>False</td>\n",
              "      <td>False</td>\n",
              "      <td>False</td>\n",
              "      <td>False</td>\n",
              "      <td>False</td>\n",
              "      <td>False</td>\n",
              "      <td>False</td>\n",
              "    </tr>\n",
              "    <tr>\n",
              "      <th>1724</th>\n",
              "      <td>False</td>\n",
              "      <td>False</td>\n",
              "      <td>False</td>\n",
              "      <td>False</td>\n",
              "      <td>False</td>\n",
              "      <td>False</td>\n",
              "      <td>False</td>\n",
              "    </tr>\n",
              "    <tr>\n",
              "      <th>1725</th>\n",
              "      <td>False</td>\n",
              "      <td>False</td>\n",
              "      <td>False</td>\n",
              "      <td>False</td>\n",
              "      <td>False</td>\n",
              "      <td>False</td>\n",
              "      <td>False</td>\n",
              "    </tr>\n",
              "    <tr>\n",
              "      <th>1726</th>\n",
              "      <td>False</td>\n",
              "      <td>False</td>\n",
              "      <td>False</td>\n",
              "      <td>False</td>\n",
              "      <td>False</td>\n",
              "      <td>False</td>\n",
              "      <td>False</td>\n",
              "    </tr>\n",
              "  </tbody>\n",
              "</table>\n",
              "<p>1727 rows × 7 columns</p>\n",
              "</div>\n",
              "      <button class=\"colab-df-convert\" onclick=\"convertToInteractive('df-c5885cac-3296-440d-894e-93260d13134d')\"\n",
              "              title=\"Convert this dataframe to an interactive table.\"\n",
              "              style=\"display:none;\">\n",
              "        \n",
              "  <svg xmlns=\"http://www.w3.org/2000/svg\" height=\"24px\"viewBox=\"0 0 24 24\"\n",
              "       width=\"24px\">\n",
              "    <path d=\"M0 0h24v24H0V0z\" fill=\"none\"/>\n",
              "    <path d=\"M18.56 5.44l.94 2.06.94-2.06 2.06-.94-2.06-.94-.94-2.06-.94 2.06-2.06.94zm-11 1L8.5 8.5l.94-2.06 2.06-.94-2.06-.94L8.5 2.5l-.94 2.06-2.06.94zm10 10l.94 2.06.94-2.06 2.06-.94-2.06-.94-.94-2.06-.94 2.06-2.06.94z\"/><path d=\"M17.41 7.96l-1.37-1.37c-.4-.4-.92-.59-1.43-.59-.52 0-1.04.2-1.43.59L10.3 9.45l-7.72 7.72c-.78.78-.78 2.05 0 2.83L4 21.41c.39.39.9.59 1.41.59.51 0 1.02-.2 1.41-.59l7.78-7.78 2.81-2.81c.8-.78.8-2.07 0-2.86zM5.41 20L4 18.59l7.72-7.72 1.47 1.35L5.41 20z\"/>\n",
              "  </svg>\n",
              "      </button>\n",
              "      \n",
              "  <style>\n",
              "    .colab-df-container {\n",
              "      display:flex;\n",
              "      flex-wrap:wrap;\n",
              "      gap: 12px;\n",
              "    }\n",
              "\n",
              "    .colab-df-convert {\n",
              "      background-color: #E8F0FE;\n",
              "      border: none;\n",
              "      border-radius: 50%;\n",
              "      cursor: pointer;\n",
              "      display: none;\n",
              "      fill: #1967D2;\n",
              "      height: 32px;\n",
              "      padding: 0 0 0 0;\n",
              "      width: 32px;\n",
              "    }\n",
              "\n",
              "    .colab-df-convert:hover {\n",
              "      background-color: #E2EBFA;\n",
              "      box-shadow: 0px 1px 2px rgba(60, 64, 67, 0.3), 0px 1px 3px 1px rgba(60, 64, 67, 0.15);\n",
              "      fill: #174EA6;\n",
              "    }\n",
              "\n",
              "    [theme=dark] .colab-df-convert {\n",
              "      background-color: #3B4455;\n",
              "      fill: #D2E3FC;\n",
              "    }\n",
              "\n",
              "    [theme=dark] .colab-df-convert:hover {\n",
              "      background-color: #434B5C;\n",
              "      box-shadow: 0px 1px 3px 1px rgba(0, 0, 0, 0.15);\n",
              "      filter: drop-shadow(0px 1px 2px rgba(0, 0, 0, 0.3));\n",
              "      fill: #FFFFFF;\n",
              "    }\n",
              "  </style>\n",
              "\n",
              "      <script>\n",
              "        const buttonEl =\n",
              "          document.querySelector('#df-c5885cac-3296-440d-894e-93260d13134d button.colab-df-convert');\n",
              "        buttonEl.style.display =\n",
              "          google.colab.kernel.accessAllowed ? 'block' : 'none';\n",
              "\n",
              "        async function convertToInteractive(key) {\n",
              "          const element = document.querySelector('#df-c5885cac-3296-440d-894e-93260d13134d');\n",
              "          const dataTable =\n",
              "            await google.colab.kernel.invokeFunction('convertToInteractive',\n",
              "                                                     [key], {});\n",
              "          if (!dataTable) return;\n",
              "\n",
              "          const docLinkHtml = 'Like what you see? Visit the ' +\n",
              "            '<a target=\"_blank\" href=https://colab.research.google.com/notebooks/data_table.ipynb>data table notebook</a>'\n",
              "            + ' to learn more about interactive tables.';\n",
              "          element.innerHTML = '';\n",
              "          dataTable['output_type'] = 'display_data';\n",
              "          await google.colab.output.renderOutput(dataTable, element);\n",
              "          const docLink = document.createElement('div');\n",
              "          docLink.innerHTML = docLinkHtml;\n",
              "          element.appendChild(docLink);\n",
              "        }\n",
              "      </script>\n",
              "    </div>\n",
              "  </div>\n",
              "  "
            ]
          },
          "metadata": {},
          "execution_count": 128
        }
      ]
    },
    {
      "cell_type": "markdown",
      "source": [
        "Encoding string to ordinal data"
      ],
      "metadata": {
        "id": "05wZNJN0emVm"
      }
    },
    {
      "cell_type": "code",
      "execution_count": 129,
      "metadata": {
        "id": "YU05RrZyITeU"
      },
      "outputs": [],
      "source": [
        "ordinal = OrdinalEncoder()\n",
        "df = ordinal.fit_transform(df)\n",
        "df = pd.DataFrame(df, columns=['buying', 'maint', 'doors', 'persons','lug_boot', 'safety','target'])\n",
        "X = df[['buying', 'maint', 'doors', 'persons','lug_boot', 'safety']]\n",
        "y = df[['target']]\n",
        "\n"
      ]
    },
    {
      "cell_type": "markdown",
      "source": [
        "Shape and type of transformed data"
      ],
      "metadata": {
        "id": "h_Nc4kwke9_z"
      }
    },
    {
      "cell_type": "code",
      "source": [
        "print('X shape=', X.shape)\n",
        "print('y shape=', y.shape)\n",
        "df.head()"
      ],
      "metadata": {
        "colab": {
          "base_uri": "https://localhost:8080/",
          "height": 241
        },
        "id": "l3zuzg6EezGt",
        "outputId": "7fb8b929-facc-44c6-af9a-97c5ce8934c2"
      },
      "execution_count": 130,
      "outputs": [
        {
          "output_type": "stream",
          "name": "stdout",
          "text": [
            "X shape= (1727, 6)\n",
            "y shape= (1727, 1)\n"
          ]
        },
        {
          "output_type": "execute_result",
          "data": {
            "text/plain": [
              "   buying  maint  doors  persons  lug_boot  safety  target\n",
              "0     3.0    3.0    0.0      0.0       2.0     2.0     2.0\n",
              "1     3.0    3.0    0.0      0.0       2.0     0.0     2.0\n",
              "2     3.0    3.0    0.0      0.0       1.0     1.0     2.0\n",
              "3     3.0    3.0    0.0      0.0       1.0     2.0     2.0\n",
              "4     3.0    3.0    0.0      0.0       1.0     0.0     2.0"
            ],
            "text/html": [
              "\n",
              "  <div id=\"df-45586988-7514-4bed-a14c-4200a868b828\">\n",
              "    <div class=\"colab-df-container\">\n",
              "      <div>\n",
              "<style scoped>\n",
              "    .dataframe tbody tr th:only-of-type {\n",
              "        vertical-align: middle;\n",
              "    }\n",
              "\n",
              "    .dataframe tbody tr th {\n",
              "        vertical-align: top;\n",
              "    }\n",
              "\n",
              "    .dataframe thead th {\n",
              "        text-align: right;\n",
              "    }\n",
              "</style>\n",
              "<table border=\"1\" class=\"dataframe\">\n",
              "  <thead>\n",
              "    <tr style=\"text-align: right;\">\n",
              "      <th></th>\n",
              "      <th>buying</th>\n",
              "      <th>maint</th>\n",
              "      <th>doors</th>\n",
              "      <th>persons</th>\n",
              "      <th>lug_boot</th>\n",
              "      <th>safety</th>\n",
              "      <th>target</th>\n",
              "    </tr>\n",
              "  </thead>\n",
              "  <tbody>\n",
              "    <tr>\n",
              "      <th>0</th>\n",
              "      <td>3.0</td>\n",
              "      <td>3.0</td>\n",
              "      <td>0.0</td>\n",
              "      <td>0.0</td>\n",
              "      <td>2.0</td>\n",
              "      <td>2.0</td>\n",
              "      <td>2.0</td>\n",
              "    </tr>\n",
              "    <tr>\n",
              "      <th>1</th>\n",
              "      <td>3.0</td>\n",
              "      <td>3.0</td>\n",
              "      <td>0.0</td>\n",
              "      <td>0.0</td>\n",
              "      <td>2.0</td>\n",
              "      <td>0.0</td>\n",
              "      <td>2.0</td>\n",
              "    </tr>\n",
              "    <tr>\n",
              "      <th>2</th>\n",
              "      <td>3.0</td>\n",
              "      <td>3.0</td>\n",
              "      <td>0.0</td>\n",
              "      <td>0.0</td>\n",
              "      <td>1.0</td>\n",
              "      <td>1.0</td>\n",
              "      <td>2.0</td>\n",
              "    </tr>\n",
              "    <tr>\n",
              "      <th>3</th>\n",
              "      <td>3.0</td>\n",
              "      <td>3.0</td>\n",
              "      <td>0.0</td>\n",
              "      <td>0.0</td>\n",
              "      <td>1.0</td>\n",
              "      <td>2.0</td>\n",
              "      <td>2.0</td>\n",
              "    </tr>\n",
              "    <tr>\n",
              "      <th>4</th>\n",
              "      <td>3.0</td>\n",
              "      <td>3.0</td>\n",
              "      <td>0.0</td>\n",
              "      <td>0.0</td>\n",
              "      <td>1.0</td>\n",
              "      <td>0.0</td>\n",
              "      <td>2.0</td>\n",
              "    </tr>\n",
              "  </tbody>\n",
              "</table>\n",
              "</div>\n",
              "      <button class=\"colab-df-convert\" onclick=\"convertToInteractive('df-45586988-7514-4bed-a14c-4200a868b828')\"\n",
              "              title=\"Convert this dataframe to an interactive table.\"\n",
              "              style=\"display:none;\">\n",
              "        \n",
              "  <svg xmlns=\"http://www.w3.org/2000/svg\" height=\"24px\"viewBox=\"0 0 24 24\"\n",
              "       width=\"24px\">\n",
              "    <path d=\"M0 0h24v24H0V0z\" fill=\"none\"/>\n",
              "    <path d=\"M18.56 5.44l.94 2.06.94-2.06 2.06-.94-2.06-.94-.94-2.06-.94 2.06-2.06.94zm-11 1L8.5 8.5l.94-2.06 2.06-.94-2.06-.94L8.5 2.5l-.94 2.06-2.06.94zm10 10l.94 2.06.94-2.06 2.06-.94-2.06-.94-.94-2.06-.94 2.06-2.06.94z\"/><path d=\"M17.41 7.96l-1.37-1.37c-.4-.4-.92-.59-1.43-.59-.52 0-1.04.2-1.43.59L10.3 9.45l-7.72 7.72c-.78.78-.78 2.05 0 2.83L4 21.41c.39.39.9.59 1.41.59.51 0 1.02-.2 1.41-.59l7.78-7.78 2.81-2.81c.8-.78.8-2.07 0-2.86zM5.41 20L4 18.59l7.72-7.72 1.47 1.35L5.41 20z\"/>\n",
              "  </svg>\n",
              "      </button>\n",
              "      \n",
              "  <style>\n",
              "    .colab-df-container {\n",
              "      display:flex;\n",
              "      flex-wrap:wrap;\n",
              "      gap: 12px;\n",
              "    }\n",
              "\n",
              "    .colab-df-convert {\n",
              "      background-color: #E8F0FE;\n",
              "      border: none;\n",
              "      border-radius: 50%;\n",
              "      cursor: pointer;\n",
              "      display: none;\n",
              "      fill: #1967D2;\n",
              "      height: 32px;\n",
              "      padding: 0 0 0 0;\n",
              "      width: 32px;\n",
              "    }\n",
              "\n",
              "    .colab-df-convert:hover {\n",
              "      background-color: #E2EBFA;\n",
              "      box-shadow: 0px 1px 2px rgba(60, 64, 67, 0.3), 0px 1px 3px 1px rgba(60, 64, 67, 0.15);\n",
              "      fill: #174EA6;\n",
              "    }\n",
              "\n",
              "    [theme=dark] .colab-df-convert {\n",
              "      background-color: #3B4455;\n",
              "      fill: #D2E3FC;\n",
              "    }\n",
              "\n",
              "    [theme=dark] .colab-df-convert:hover {\n",
              "      background-color: #434B5C;\n",
              "      box-shadow: 0px 1px 3px 1px rgba(0, 0, 0, 0.15);\n",
              "      filter: drop-shadow(0px 1px 2px rgba(0, 0, 0, 0.3));\n",
              "      fill: #FFFFFF;\n",
              "    }\n",
              "  </style>\n",
              "\n",
              "      <script>\n",
              "        const buttonEl =\n",
              "          document.querySelector('#df-45586988-7514-4bed-a14c-4200a868b828 button.colab-df-convert');\n",
              "        buttonEl.style.display =\n",
              "          google.colab.kernel.accessAllowed ? 'block' : 'none';\n",
              "\n",
              "        async function convertToInteractive(key) {\n",
              "          const element = document.querySelector('#df-45586988-7514-4bed-a14c-4200a868b828');\n",
              "          const dataTable =\n",
              "            await google.colab.kernel.invokeFunction('convertToInteractive',\n",
              "                                                     [key], {});\n",
              "          if (!dataTable) return;\n",
              "\n",
              "          const docLinkHtml = 'Like what you see? Visit the ' +\n",
              "            '<a target=\"_blank\" href=https://colab.research.google.com/notebooks/data_table.ipynb>data table notebook</a>'\n",
              "            + ' to learn more about interactive tables.';\n",
              "          element.innerHTML = '';\n",
              "          dataTable['output_type'] = 'display_data';\n",
              "          await google.colab.output.renderOutput(dataTable, element);\n",
              "          const docLink = document.createElement('div');\n",
              "          docLink.innerHTML = docLinkHtml;\n",
              "          element.appendChild(docLink);\n",
              "        }\n",
              "      </script>\n",
              "    </div>\n",
              "  </div>\n",
              "  "
            ]
          },
          "metadata": {},
          "execution_count": 130
        }
      ]
    },
    {
      "cell_type": "markdown",
      "source": [
        "Splitting Data into training, test and validation set"
      ],
      "metadata": {
        "id": "KQJvyj_vfAXJ"
      }
    },
    {
      "cell_type": "code",
      "execution_count": 131,
      "metadata": {
        "colab": {
          "base_uri": "https://localhost:8080/"
        },
        "id": "wNWDB3DL0zKL",
        "outputId": "aa56f1fd-0fc5-4765-d694-19bbf4ca2427"
      },
      "outputs": [
        {
          "output_type": "stream",
          "name": "stdout",
          "text": [
            "      buying  maint  doors  persons  lug_boot  safety\n",
            "1482     1.0    0.0    2.0      2.0       0.0     2.0\n",
            "1016     2.0    0.0    1.0      2.0       2.0     1.0\n",
            "853      0.0    1.0    3.0      1.0       0.0     0.0\n",
            "369      3.0    1.0    1.0      2.0       2.0     2.0\n",
            "4        3.0    3.0    0.0      0.0       1.0     0.0\n",
            "...      ...    ...    ...      ...       ...     ...\n",
            "1555     1.0    2.0    1.0      1.0       0.0     0.0\n",
            "1695     1.0    1.0    2.0      2.0       1.0     2.0\n",
            "395      3.0    1.0    2.0      2.0       2.0     1.0\n",
            "216      3.0    2.0    0.0      0.0       2.0     2.0\n",
            "1355     1.0    3.0    2.0      0.0       0.0     1.0\n",
            "\n",
            "[1036 rows x 6 columns]       buying  maint  doors  persons  lug_boot  safety\n",
            "824      0.0    1.0    2.0      1.0       0.0     1.0\n",
            "1066     2.0    0.0    3.0      1.0       1.0     0.0\n",
            "594      0.0    0.0    2.0      0.0       2.0     2.0\n",
            "958      2.0    3.0    3.0      1.0       1.0     0.0\n",
            "1577     1.0    2.0    2.0      1.0       1.0     1.0\n",
            "...      ...    ...    ...      ...       ...     ...\n",
            "623      0.0    0.0    3.0      0.0       1.0     1.0\n",
            "1292     2.0    1.0    3.0      2.0       0.0     1.0\n",
            "1625     1.0    1.0    0.0      0.0       0.0     1.0\n",
            "435      0.0    3.0    0.0      0.0       1.0     2.0\n",
            "1043     2.0    0.0    2.0      2.0       2.0     1.0\n",
            "\n",
            "[345 rows x 6 columns]       buying  maint  doors  persons  lug_boot  safety\n",
            "202      3.0    0.0    3.0      1.0       1.0     0.0\n",
            "677      0.0    2.0    1.0      0.0       1.0     1.0\n",
            "1474     1.0    0.0    2.0      1.0       0.0     0.0\n",
            "1493     1.0    0.0    3.0      1.0       2.0     1.0\n",
            "798      0.0    1.0    1.0      1.0       0.0     2.0\n",
            "...      ...    ...    ...      ...       ...     ...\n",
            "763      0.0    1.0    0.0      0.0       0.0     0.0\n",
            "336      3.0    1.0    0.0      1.0       1.0     2.0\n",
            "600      0.0    0.0    2.0      0.0       0.0     2.0\n",
            "170      3.0    0.0    2.0      1.0       2.0     1.0\n",
            "922      2.0    3.0    2.0      0.0       1.0     0.0\n",
            "\n",
            "[346 rows x 6 columns]\n",
            "x_train shape: (1036, 6)\n",
            "x_test shape: (346, 6)\n",
            "x_val shape: (345, 6)\n",
            "y_train shape: (1036, 1)\n",
            "y_test shape: (346, 1)\n",
            "y val shape: (345, 1)\n"
          ]
        }
      ],
      "source": [
        "train_ratio = 0.6\n",
        "validation_ratio = 0.2\n",
        "test_ratio = 0.2\n",
        "\n",
        "x_train, x_test, y_train, y_test = model_selection.train_test_split(X, y, test_size=1 - train_ratio)\n",
        "x_val, x_test, y_val, y_test = model_selection.train_test_split(x_test, y_test, test_size=test_ratio/(test_ratio + validation_ratio)) \n",
        "\n",
        "print(x_train, x_val, x_test)\n",
        "print(\"x_train shape: {}\".format(x_train.shape))\n",
        "print(\"x_test shape: {}\".format(x_test.shape))\n",
        "print(\"x_val shape: {}\".format(x_val.shape))\n",
        "print(\"y_train shape: {}\".format(y_train.shape))\n",
        "print(\"y_test shape: {}\".format(y_test.shape))\n",
        "print(\"y val shape: {}\".format(y_val.shape))"
      ]
    },
    {
      "cell_type": "markdown",
      "source": [
        "Decision Tree before any pruning"
      ],
      "metadata": {
        "id": "aodX-n0MfyCM"
      }
    },
    {
      "cell_type": "code",
      "execution_count": 132,
      "metadata": {
        "colab": {
          "base_uri": "https://localhost:8080/"
        },
        "id": "xykUz2YM_dJL",
        "outputId": "803c6f7e-4d17-4b52-9eb9-fb99117e9bce"
      },
      "outputs": [
        {
          "output_type": "execute_result",
          "data": {
            "text/plain": [
              "DecisionTreeClassifier(criterion='entropy', random_state=1)"
            ]
          },
          "metadata": {},
          "execution_count": 132
        }
      ],
      "source": [
        "cls = tree.DecisionTreeClassifier(criterion=\"entropy\",random_state=1)\n",
        "cls.fit(x_train,y_train)"
      ]
    },
    {
      "cell_type": "markdown",
      "source": [
        "Score of the testing data \n"
      ],
      "metadata": {
        "id": "UFS9qcbrgEux"
      }
    },
    {
      "cell_type": "code",
      "execution_count": 133,
      "metadata": {
        "colab": {
          "base_uri": "https://localhost:8080/"
        },
        "id": "SZf2b3hNKeT5",
        "outputId": "3cf4bf65-879b-4d37-d482-6acf03f191dc"
      },
      "outputs": [
        {
          "output_type": "stream",
          "name": "stdout",
          "text": [
            "Test Score:  0.9624277456647399\n",
            "Training Score:  1.0\n"
          ]
        }
      ],
      "source": [
        "print(\"Test Score: \",cls.score(x_test,y_test))\n",
        "print(\"Training Score: \",cls.score(x_train,y_train))\n"
      ]
    },
    {
      "cell_type": "markdown",
      "source": [
        "Depth of the tree"
      ],
      "metadata": {
        "id": "9ZfQ_nD-gOhd"
      }
    },
    {
      "cell_type": "code",
      "source": [
        "cls.get_depth()"
      ],
      "metadata": {
        "colab": {
          "base_uri": "https://localhost:8080/"
        },
        "id": "QeqsqdBmgKux",
        "outputId": "7b4eecfb-713b-4a53-ee26-ff30beb28aee"
      },
      "execution_count": 134,
      "outputs": [
        {
          "output_type": "execute_result",
          "data": {
            "text/plain": [
              "14"
            ]
          },
          "metadata": {},
          "execution_count": 134
        }
      ]
    },
    {
      "cell_type": "markdown",
      "source": [
        "Number of Nodes in the tree"
      ],
      "metadata": {
        "id": "M_6B3x1q-dk3"
      }
    },
    {
      "cell_type": "code",
      "source": [
        "cls.tree_.node_count"
      ],
      "metadata": {
        "colab": {
          "base_uri": "https://localhost:8080/"
        },
        "id": "GqF6oJcE9d7g",
        "outputId": "2e71b70f-f822-4843-a5cf-2ed6f559f020"
      },
      "execution_count": 162,
      "outputs": [
        {
          "output_type": "execute_result",
          "data": {
            "text/plain": [
              "147"
            ]
          },
          "metadata": {},
          "execution_count": 162
        }
      ]
    },
    {
      "cell_type": "markdown",
      "source": [
        "Leaf Nodes in the tree"
      ],
      "metadata": {
        "id": "4IDkVRQugVd2"
      }
    },
    {
      "cell_type": "code",
      "source": [
        "\n",
        "def find_leaf_nodes(classifier):\n",
        "    leaf_nodes = []\n",
        "    stack = [0] \n",
        "    while stack:\n",
        "        node_id = stack.pop()\n",
        "        if (classifier.tree_.children_left[node_id] == -1 and classifier.tree_.children_right[node_id] == -1):\n",
        "            leaf_nodes.append(node_id)\n",
        "        else:\n",
        "            stack.append(classifier.tree_.children_left[node_id])\n",
        "            stack.append(classifier.tree_.children_right[node_id])\n",
        "    return len(leaf_nodes)\n",
        "find_leaf_nodes(cls)"
      ],
      "metadata": {
        "colab": {
          "base_uri": "https://localhost:8080/"
        },
        "id": "FJJxZZ4AgZ3U",
        "outputId": "e3fa0c68-da6b-4b1c-e7ca-b3c413f8d012"
      },
      "execution_count": 135,
      "outputs": [
        {
          "output_type": "execute_result",
          "data": {
            "text/plain": [
              "74"
            ]
          },
          "metadata": {},
          "execution_count": 135
        }
      ]
    },
    {
      "cell_type": "markdown",
      "source": [
        "Plotting the tree"
      ],
      "metadata": {
        "id": "v--wdmrTkPGC"
      }
    },
    {
      "cell_type": "code",
      "execution_count": 165,
      "metadata": {
        "colab": {
          "base_uri": "https://localhost:8080/",
          "height": 1000
        },
        "id": "B9yUOTNTLqg9",
        "outputId": "71da07da-166c-4ede-d6c9-a81d86e9b034"
      },
      "outputs": [
        {
          "output_type": "execute_result",
          "data": {
            "text/plain": [
              "[Text(0.538527397260274, 0.9666666666666667, 'X[3] <= 0.5\\nentropy = 1.202\\nsamples = 1036\\nvalue = [229, 40, 727, 40]'),\n",
              " Text(0.5248287671232876, 0.9, 'entropy = 0.0\\nsamples = 347\\nvalue = [0, 0, 347, 0]'),\n",
              " Text(0.5522260273972602, 0.9, 'X[5] <= 0.5\\nentropy = 1.478\\nsamples = 689\\nvalue = [229, 40, 380, 40]'),\n",
              " Text(0.2966609589041096, 0.8333333333333334, 'X[1] <= 2.5\\nentropy = 1.685\\nsamples = 230\\nvalue = [123, 18, 49, 40]'),\n",
              " Text(0.15496575342465754, 0.7666666666666667, 'X[0] <= 0.5\\nentropy = 1.65\\nsamples = 173\\nvalue = [96, 18, 19, 40]'),\n",
              " Text(0.0410958904109589, 0.7, 'X[2] <= 0.5\\nentropy = 0.239\\nsamples = 51\\nvalue = [49, 0, 2, 0]'),\n",
              " Text(0.0273972602739726, 0.6333333333333333, 'X[4] <= 1.5\\nentropy = 0.684\\nsamples = 11\\nvalue = [9, 0, 2, 0]'),\n",
              " Text(0.0136986301369863, 0.5666666666666667, 'entropy = 0.0\\nsamples = 6\\nvalue = [6, 0, 0, 0]'),\n",
              " Text(0.0410958904109589, 0.5666666666666667, 'X[3] <= 1.5\\nentropy = 0.971\\nsamples = 5\\nvalue = [3, 0, 2, 0]'),\n",
              " Text(0.0273972602739726, 0.5, 'entropy = 0.0\\nsamples = 3\\nvalue = [3, 0, 0, 0]'),\n",
              " Text(0.0547945205479452, 0.5, 'entropy = 0.0\\nsamples = 2\\nvalue = [0, 0, 2, 0]'),\n",
              " Text(0.0547945205479452, 0.6333333333333333, 'entropy = 0.0\\nsamples = 40\\nvalue = [40, 0, 0, 0]'),\n",
              " Text(0.2688356164383562, 0.7, 'X[0] <= 2.5\\nentropy = 1.861\\nsamples = 122\\nvalue = [47, 18, 17, 40]'),\n",
              " Text(0.1815068493150685, 0.6333333333333333, 'X[4] <= 1.5\\nentropy = 1.701\\nsamples = 84\\nvalue = [22, 18, 4, 40]'),\n",
              " Text(0.1095890410958904, 0.5666666666666667, 'X[1] <= 0.5\\nentropy = 1.069\\nsamples = 54\\nvalue = [9, 5, 0, 40]'),\n",
              " Text(0.0821917808219178, 0.5, 'X[0] <= 1.5\\nentropy = 0.996\\nsamples = 13\\nvalue = [7, 0, 0, 6]'),\n",
              " Text(0.0684931506849315, 0.43333333333333335, 'entropy = 0.0\\nsamples = 6\\nvalue = [0, 0, 0, 6]'),\n",
              " Text(0.0958904109589041, 0.43333333333333335, 'entropy = 0.0\\nsamples = 7\\nvalue = [7, 0, 0, 0]'),\n",
              " Text(0.136986301369863, 0.5, 'X[4] <= 0.5\\nentropy = 0.807\\nsamples = 41\\nvalue = [2, 5, 0, 34]'),\n",
              " Text(0.1232876712328767, 0.43333333333333335, 'entropy = 0.0\\nsamples = 20\\nvalue = [0, 0, 0, 20]'),\n",
              " Text(0.1506849315068493, 0.43333333333333335, 'X[2] <= 1.5\\nentropy = 1.206\\nsamples = 21\\nvalue = [2, 5, 0, 14]'),\n",
              " Text(0.136986301369863, 0.36666666666666664, 'X[3] <= 1.5\\nentropy = 1.485\\nsamples = 10\\nvalue = [2, 5, 0, 3]'),\n",
              " Text(0.1095890410958904, 0.3, 'X[1] <= 1.5\\nentropy = 0.918\\nsamples = 6\\nvalue = [2, 4, 0, 0]'),\n",
              " Text(0.0958904109589041, 0.23333333333333334, 'entropy = 0.0\\nsamples = 3\\nvalue = [0, 3, 0, 0]'),\n",
              " Text(0.1232876712328767, 0.23333333333333334, 'X[0] <= 1.5\\nentropy = 0.918\\nsamples = 3\\nvalue = [2, 1, 0, 0]'),\n",
              " Text(0.1095890410958904, 0.16666666666666666, 'entropy = 0.0\\nsamples = 1\\nvalue = [0, 1, 0, 0]'),\n",
              " Text(0.136986301369863, 0.16666666666666666, 'entropy = 0.0\\nsamples = 2\\nvalue = [2, 0, 0, 0]'),\n",
              " Text(0.1643835616438356, 0.3, 'X[2] <= 0.5\\nentropy = 0.811\\nsamples = 4\\nvalue = [0, 1, 0, 3]'),\n",
              " Text(0.1506849315068493, 0.23333333333333334, 'entropy = 0.0\\nsamples = 1\\nvalue = [0, 1, 0, 0]'),\n",
              " Text(0.1780821917808219, 0.23333333333333334, 'entropy = 0.0\\nsamples = 3\\nvalue = [0, 0, 0, 3]'),\n",
              " Text(0.1643835616438356, 0.36666666666666664, 'entropy = 0.0\\nsamples = 11\\nvalue = [0, 0, 0, 11]'),\n",
              " Text(0.2534246575342466, 0.5666666666666667, 'X[1] <= 0.5\\nentropy = 1.433\\nsamples = 30\\nvalue = [13, 13, 4, 0]'),\n",
              " Text(0.2191780821917808, 0.5, 'X[2] <= 0.5\\nentropy = 0.469\\nsamples = 10\\nvalue = [9, 0, 1, 0]'),\n",
              " Text(0.2054794520547945, 0.43333333333333335, 'X[0] <= 1.5\\nentropy = 1.0\\nsamples = 2\\nvalue = [1, 0, 1, 0]'),\n",
              " Text(0.1917808219178082, 0.36666666666666664, 'entropy = 0.0\\nsamples = 1\\nvalue = [1, 0, 0, 0]'),\n",
              " Text(0.2191780821917808, 0.36666666666666664, 'entropy = 0.0\\nsamples = 1\\nvalue = [0, 0, 1, 0]'),\n",
              " Text(0.2328767123287671, 0.43333333333333335, 'entropy = 0.0\\nsamples = 8\\nvalue = [8, 0, 0, 0]'),\n",
              " Text(0.2876712328767123, 0.5, 'X[2] <= 0.5\\nentropy = 1.279\\nsamples = 20\\nvalue = [4, 13, 3, 0]'),\n",
              " Text(0.2602739726027397, 0.43333333333333335, 'X[3] <= 1.5\\nentropy = 0.971\\nsamples = 5\\nvalue = [0, 2, 3, 0]'),\n",
              " Text(0.2465753424657534, 0.36666666666666664, 'entropy = 0.0\\nsamples = 2\\nvalue = [0, 2, 0, 0]'),\n",
              " Text(0.273972602739726, 0.36666666666666664, 'entropy = 0.0\\nsamples = 3\\nvalue = [0, 0, 3, 0]'),\n",
              " Text(0.3150684931506849, 0.43333333333333335, 'X[1] <= 1.5\\nentropy = 0.837\\nsamples = 15\\nvalue = [4, 11, 0, 0]'),\n",
              " Text(0.3013698630136986, 0.36666666666666664, 'entropy = 0.0\\nsamples = 7\\nvalue = [0, 7, 0, 0]'),\n",
              " Text(0.3287671232876712, 0.36666666666666664, 'X[0] <= 1.5\\nentropy = 1.0\\nsamples = 8\\nvalue = [4, 4, 0, 0]'),\n",
              " Text(0.3150684931506849, 0.3, 'entropy = 0.0\\nsamples = 4\\nvalue = [0, 4, 0, 0]'),\n",
              " Text(0.3424657534246575, 0.3, 'entropy = 0.0\\nsamples = 4\\nvalue = [4, 0, 0, 0]'),\n",
              " Text(0.3561643835616438, 0.6333333333333333, 'X[1] <= 0.5\\nentropy = 0.927\\nsamples = 38\\nvalue = [25, 0, 13, 0]'),\n",
              " Text(0.3424657534246575, 0.5666666666666667, 'entropy = 0.0\\nsamples = 12\\nvalue = [0, 0, 12, 0]'),\n",
              " Text(0.3698630136986301, 0.5666666666666667, 'X[2] <= 0.5\\nentropy = 0.235\\nsamples = 26\\nvalue = [25, 0, 1, 0]'),\n",
              " Text(0.3561643835616438, 0.5, 'X[4] <= 1.5\\nentropy = 0.592\\nsamples = 7\\nvalue = [6, 0, 1, 0]'),\n",
              " Text(0.3424657534246575, 0.43333333333333335, 'entropy = 0.0\\nsamples = 5\\nvalue = [5, 0, 0, 0]'),\n",
              " Text(0.3698630136986301, 0.43333333333333335, 'X[1] <= 1.5\\nentropy = 1.0\\nsamples = 2\\nvalue = [1, 0, 1, 0]'),\n",
              " Text(0.3561643835616438, 0.36666666666666664, 'entropy = 0.0\\nsamples = 1\\nvalue = [0, 0, 1, 0]'),\n",
              " Text(0.3835616438356164, 0.36666666666666664, 'entropy = 0.0\\nsamples = 1\\nvalue = [1, 0, 0, 0]'),\n",
              " Text(0.3835616438356164, 0.5, 'entropy = 0.0\\nsamples = 19\\nvalue = [19, 0, 0, 0]'),\n",
              " Text(0.4383561643835616, 0.7666666666666667, 'X[0] <= 0.5\\nentropy = 0.998\\nsamples = 57\\nvalue = [27, 0, 30, 0]'),\n",
              " Text(0.4246575342465753, 0.7, 'entropy = 0.0\\nsamples = 16\\nvalue = [0, 0, 16, 0]'),\n",
              " Text(0.4520547945205479, 0.7, 'X[0] <= 2.5\\nentropy = 0.926\\nsamples = 41\\nvalue = [27, 0, 14, 0]'),\n",
              " Text(0.4383561643835616, 0.6333333333333333, 'X[2] <= 0.5\\nentropy = 0.222\\nsamples = 28\\nvalue = [27, 0, 1, 0]'),\n",
              " Text(0.4246575342465753, 0.5666666666666667, 'X[4] <= 1.5\\nentropy = 0.544\\nsamples = 8\\nvalue = [7, 0, 1, 0]'),\n",
              " Text(0.410958904109589, 0.5, 'entropy = 0.0\\nsamples = 5\\nvalue = [5, 0, 0, 0]'),\n",
              " Text(0.4383561643835616, 0.5, 'X[3] <= 1.5\\nentropy = 0.918\\nsamples = 3\\nvalue = [2, 0, 1, 0]'),\n",
              " Text(0.4246575342465753, 0.43333333333333335, 'entropy = 0.0\\nsamples = 2\\nvalue = [2, 0, 0, 0]'),\n",
              " Text(0.4520547945205479, 0.43333333333333335, 'entropy = 0.0\\nsamples = 1\\nvalue = [0, 0, 1, 0]'),\n",
              " Text(0.4520547945205479, 0.5666666666666667, 'entropy = 0.0\\nsamples = 20\\nvalue = [20, 0, 0, 0]'),\n",
              " Text(0.4657534246575342, 0.6333333333333333, 'entropy = 0.0\\nsamples = 13\\nvalue = [0, 0, 13, 0]'),\n",
              " Text(0.807791095890411, 0.8333333333333334, 'X[5] <= 1.5\\nentropy = 1.039\\nsamples = 459\\nvalue = [106, 22, 331, 0]'),\n",
              " Text(0.7940924657534246, 0.7666666666666667, 'entropy = 0.0\\nsamples = 232\\nvalue = [0, 0, 232, 0]'),\n",
              " Text(0.8214897260273972, 0.7666666666666667, 'X[0] <= 2.5\\nentropy = 1.361\\nsamples = 227\\nvalue = [106, 22, 99, 0]'),\n",
              " Text(0.711472602739726, 0.7, 'X[4] <= 1.5\\nentropy = 1.371\\nsamples = 176\\nvalue = [98, 22, 56, 0]'),\n",
              " Text(0.5873287671232876, 0.6333333333333333, 'X[0] <= 0.5\\nentropy = 1.327\\nsamples = 115\\nvalue = [72, 22, 21, 0]'),\n",
              " Text(0.5068493150684932, 0.5666666666666667, 'X[1] <= 2.5\\nentropy = 0.954\\nsamples = 40\\nvalue = [25, 0, 15, 0]'),\n",
              " Text(0.4931506849315068, 0.5, 'X[2] <= 1.5\\nentropy = 0.799\\nsamples = 33\\nvalue = [25, 0, 8, 0]'),\n",
              " Text(0.4794520547945205, 0.43333333333333335, 'X[4] <= 0.5\\nentropy = 0.961\\nsamples = 13\\nvalue = [5, 0, 8, 0]'),\n",
              " Text(0.4657534246575342, 0.36666666666666664, 'entropy = 0.0\\nsamples = 5\\nvalue = [5, 0, 0, 0]'),\n",
              " Text(0.4931506849315068, 0.36666666666666664, 'entropy = 0.0\\nsamples = 8\\nvalue = [0, 0, 8, 0]'),\n",
              " Text(0.5068493150684932, 0.43333333333333335, 'entropy = 0.0\\nsamples = 20\\nvalue = [20, 0, 0, 0]'),\n",
              " Text(0.5205479452054794, 0.5, 'entropy = 0.0\\nsamples = 7\\nvalue = [0, 0, 7, 0]'),\n",
              " Text(0.6678082191780822, 0.5666666666666667, 'X[1] <= 2.5\\nentropy = 1.233\\nsamples = 75\\nvalue = [47, 22, 6, 0]'),\n",
              " Text(0.5958904109589042, 0.5, 'X[1] <= 0.5\\nentropy = 1.175\\nsamples = 54\\nvalue = [30, 22, 2, 0]'),\n",
              " Text(0.5342465753424658, 0.43333333333333335, 'X[4] <= 0.5\\nentropy = 0.454\\nsamples = 21\\nvalue = [19, 0, 2, 0]'),\n",
              " Text(0.5205479452054794, 0.36666666666666664, 'entropy = 0.0\\nsamples = 11\\nvalue = [11, 0, 0, 0]'),\n",
              " Text(0.547945205479452, 0.36666666666666664, 'X[0] <= 1.5\\nentropy = 0.722\\nsamples = 10\\nvalue = [8, 0, 2, 0]'),\n",
              " Text(0.5342465753424658, 0.3, 'entropy = 0.0\\nsamples = 4\\nvalue = [4, 0, 0, 0]'),\n",
              " Text(0.5616438356164384, 0.3, 'X[3] <= 1.5\\nentropy = 0.918\\nsamples = 6\\nvalue = [4, 0, 2, 0]'),\n",
              " Text(0.547945205479452, 0.23333333333333334, 'X[2] <= 2.0\\nentropy = 0.918\\nsamples = 3\\nvalue = [1, 0, 2, 0]'),\n",
              " Text(0.5342465753424658, 0.16666666666666666, 'entropy = 0.0\\nsamples = 2\\nvalue = [0, 0, 2, 0]'),\n",
              " Text(0.5616438356164384, 0.16666666666666666, 'entropy = 0.0\\nsamples = 1\\nvalue = [1, 0, 0, 0]'),\n",
              " Text(0.5753424657534246, 0.23333333333333334, 'entropy = 0.0\\nsamples = 3\\nvalue = [3, 0, 0, 0]'),\n",
              " Text(0.6575342465753424, 0.43333333333333335, 'X[0] <= 1.5\\nentropy = 0.918\\nsamples = 33\\nvalue = [11, 22, 0, 0]'),\n",
              " Text(0.6301369863013698, 0.36666666666666664, 'X[2] <= 0.5\\nentropy = 0.353\\nsamples = 15\\nvalue = [1, 14, 0, 0]'),\n",
              " Text(0.6164383561643836, 0.3, 'X[4] <= 0.5\\nentropy = 0.918\\nsamples = 3\\nvalue = [1, 2, 0, 0]'),\n",
              " Text(0.6027397260273972, 0.23333333333333334, 'entropy = 0.0\\nsamples = 2\\nvalue = [0, 2, 0, 0]'),\n",
              " Text(0.6301369863013698, 0.23333333333333334, 'entropy = 0.0\\nsamples = 1\\nvalue = [1, 0, 0, 0]'),\n",
              " Text(0.6438356164383562, 0.3, 'entropy = 0.0\\nsamples = 12\\nvalue = [0, 12, 0, 0]'),\n",
              " Text(0.684931506849315, 0.36666666666666664, 'X[1] <= 1.5\\nentropy = 0.991\\nsamples = 18\\nvalue = [10, 8, 0, 0]'),\n",
              " Text(0.6712328767123288, 0.3, 'X[2] <= 0.5\\nentropy = 0.845\\nsamples = 11\\nvalue = [3, 8, 0, 0]'),\n",
              " Text(0.6575342465753424, 0.23333333333333334, 'entropy = 0.0\\nsamples = 2\\nvalue = [2, 0, 0, 0]'),\n",
              " Text(0.684931506849315, 0.23333333333333334, 'X[2] <= 1.5\\nentropy = 0.503\\nsamples = 9\\nvalue = [1, 8, 0, 0]'),\n",
              " Text(0.6712328767123288, 0.16666666666666666, 'X[4] <= 0.5\\nentropy = 0.811\\nsamples = 4\\nvalue = [1, 3, 0, 0]'),\n",
              " Text(0.6575342465753424, 0.1, 'entropy = 0.0\\nsamples = 2\\nvalue = [0, 2, 0, 0]'),\n",
              " Text(0.684931506849315, 0.1, 'X[3] <= 1.5\\nentropy = 1.0\\nsamples = 2\\nvalue = [1, 1, 0, 0]'),\n",
              " Text(0.6712328767123288, 0.03333333333333333, 'entropy = 0.0\\nsamples = 1\\nvalue = [1, 0, 0, 0]'),\n",
              " Text(0.6986301369863014, 0.03333333333333333, 'entropy = 0.0\\nsamples = 1\\nvalue = [0, 1, 0, 0]'),\n",
              " Text(0.6986301369863014, 0.16666666666666666, 'entropy = 0.0\\nsamples = 5\\nvalue = [0, 5, 0, 0]'),\n",
              " Text(0.6986301369863014, 0.3, 'entropy = 0.0\\nsamples = 7\\nvalue = [7, 0, 0, 0]'),\n",
              " Text(0.7397260273972602, 0.5, 'X[4] <= 0.5\\nentropy = 0.702\\nsamples = 21\\nvalue = [17, 0, 4, 0]'),\n",
              " Text(0.726027397260274, 0.43333333333333335, 'entropy = 0.0\\nsamples = 11\\nvalue = [11, 0, 0, 0]'),\n",
              " Text(0.7534246575342466, 0.43333333333333335, 'X[2] <= 1.5\\nentropy = 0.971\\nsamples = 10\\nvalue = [6, 0, 4, 0]'),\n",
              " Text(0.7397260273972602, 0.36666666666666664, 'X[3] <= 1.5\\nentropy = 0.722\\nsamples = 5\\nvalue = [1, 0, 4, 0]'),\n",
              " Text(0.726027397260274, 0.3, 'entropy = 0.0\\nsamples = 3\\nvalue = [0, 0, 3, 0]'),\n",
              " Text(0.7534246575342466, 0.3, 'X[2] <= 0.5\\nentropy = 1.0\\nsamples = 2\\nvalue = [1, 0, 1, 0]'),\n",
              " Text(0.7397260273972602, 0.23333333333333334, 'entropy = 0.0\\nsamples = 1\\nvalue = [0, 0, 1, 0]'),\n",
              " Text(0.7671232876712328, 0.23333333333333334, 'entropy = 0.0\\nsamples = 1\\nvalue = [1, 0, 0, 0]'),\n",
              " Text(0.7671232876712328, 0.36666666666666664, 'entropy = 0.0\\nsamples = 5\\nvalue = [5, 0, 0, 0]'),\n",
              " Text(0.8356164383561644, 0.6333333333333333, 'X[0] <= 0.5\\nentropy = 0.984\\nsamples = 61\\nvalue = [26, 0, 35, 0]'),\n",
              " Text(0.821917808219178, 0.5666666666666667, 'entropy = 0.0\\nsamples = 19\\nvalue = [0, 0, 19, 0]'),\n",
              " Text(0.8493150684931506, 0.5666666666666667, 'X[1] <= 2.5\\nentropy = 0.959\\nsamples = 42\\nvalue = [26, 0, 16, 0]'),\n",
              " Text(0.8356164383561644, 0.5, 'X[2] <= 0.5\\nentropy = 0.746\\nsamples = 33\\nvalue = [26, 0, 7, 0]'),\n",
              " Text(0.8082191780821918, 0.43333333333333335, 'X[3] <= 1.5\\nentropy = 0.918\\nsamples = 6\\nvalue = [2, 0, 4, 0]'),\n",
              " Text(0.7945205479452054, 0.36666666666666664, 'X[1] <= 0.5\\nentropy = 0.918\\nsamples = 3\\nvalue = [2, 0, 1, 0]'),\n",
              " Text(0.7808219178082192, 0.3, 'entropy = 0.0\\nsamples = 1\\nvalue = [0, 0, 1, 0]'),\n",
              " Text(0.8082191780821918, 0.3, 'entropy = 0.0\\nsamples = 2\\nvalue = [2, 0, 0, 0]'),\n",
              " Text(0.821917808219178, 0.36666666666666664, 'entropy = 0.0\\nsamples = 3\\nvalue = [0, 0, 3, 0]'),\n",
              " Text(0.863013698630137, 0.43333333333333335, 'X[1] <= 0.5\\nentropy = 0.503\\nsamples = 27\\nvalue = [24, 0, 3, 0]'),\n",
              " Text(0.8493150684931506, 0.36666666666666664, 'X[0] <= 1.5\\nentropy = 0.954\\nsamples = 8\\nvalue = [5, 0, 3, 0]'),\n",
              " Text(0.8356164383561644, 0.3, 'entropy = 0.0\\nsamples = 5\\nvalue = [5, 0, 0, 0]'),\n",
              " Text(0.863013698630137, 0.3, 'entropy = 0.0\\nsamples = 3\\nvalue = [0, 0, 3, 0]'),\n",
              " Text(0.8767123287671232, 0.36666666666666664, 'entropy = 0.0\\nsamples = 19\\nvalue = [19, 0, 0, 0]'),\n",
              " Text(0.863013698630137, 0.5, 'entropy = 0.0\\nsamples = 9\\nvalue = [0, 0, 9, 0]'),\n",
              " Text(0.9315068493150684, 0.7, 'X[4] <= 0.5\\nentropy = 0.627\\nsamples = 51\\nvalue = [8, 0, 43, 0]'),\n",
              " Text(0.8904109589041096, 0.6333333333333333, 'X[1] <= 0.5\\nentropy = 0.989\\nsamples = 16\\nvalue = [7, 0, 9, 0]'),\n",
              " Text(0.8767123287671232, 0.5666666666666667, 'entropy = 0.0\\nsamples = 5\\nvalue = [0, 0, 5, 0]'),\n",
              " Text(0.9041095890410958, 0.5666666666666667, 'X[1] <= 2.5\\nentropy = 0.946\\nsamples = 11\\nvalue = [7, 0, 4, 0]'),\n",
              " Text(0.8904109589041096, 0.5, 'entropy = 0.0\\nsamples = 7\\nvalue = [7, 0, 0, 0]'),\n",
              " Text(0.9178082191780822, 0.5, 'entropy = 0.0\\nsamples = 4\\nvalue = [0, 0, 4, 0]'),\n",
              " Text(0.9726027397260274, 0.6333333333333333, 'X[4] <= 1.5\\nentropy = 0.187\\nsamples = 35\\nvalue = [1, 0, 34, 0]'),\n",
              " Text(0.958904109589041, 0.5666666666666667, 'X[2] <= 1.5\\nentropy = 0.353\\nsamples = 15\\nvalue = [1, 0, 14, 0]'),\n",
              " Text(0.9452054794520548, 0.5, 'entropy = 0.0\\nsamples = 8\\nvalue = [0, 0, 8, 0]'),\n",
              " Text(0.9726027397260274, 0.5, 'X[2] <= 2.5\\nentropy = 0.592\\nsamples = 7\\nvalue = [1, 0, 6, 0]'),\n",
              " Text(0.958904109589041, 0.43333333333333335, 'X[3] <= 1.5\\nentropy = 0.811\\nsamples = 4\\nvalue = [1, 0, 3, 0]'),\n",
              " Text(0.9452054794520548, 0.36666666666666664, 'X[1] <= 0.5\\nentropy = 1.0\\nsamples = 2\\nvalue = [1, 0, 1, 0]'),\n",
              " Text(0.9315068493150684, 0.3, 'entropy = 0.0\\nsamples = 1\\nvalue = [0, 0, 1, 0]'),\n",
              " Text(0.958904109589041, 0.3, 'entropy = 0.0\\nsamples = 1\\nvalue = [1, 0, 0, 0]'),\n",
              " Text(0.9726027397260274, 0.36666666666666664, 'entropy = 0.0\\nsamples = 2\\nvalue = [0, 0, 2, 0]'),\n",
              " Text(0.9863013698630136, 0.43333333333333335, 'entropy = 0.0\\nsamples = 3\\nvalue = [0, 0, 3, 0]'),\n",
              " Text(0.9863013698630136, 0.5666666666666667, 'entropy = 0.0\\nsamples = 20\\nvalue = [0, 0, 20, 0]')]"
            ]
          },
          "metadata": {},
          "execution_count": 165
        },
        {
          "output_type": "display_data",
          "data": {
            "text/plain": [
              "<Figure size 864x576 with 1 Axes>"
            ],
            "image/png": "[encoded data removed]"
          },
          "metadata": {
            "needs_background": "light"
          }
        }
      ],
      "source": [
        "plt.figure(figsize=(12,8))\n",
        "tree.plot_tree(cls,rounded=True,filled=True) "
      ]
    },
    {
      "cell_type": "code",
      "execution_count": 137,
      "metadata": {
        "colab": {
          "base_uri": "https://localhost:8080/",
          "height": 35
        },
        "id": "OVnQ25KOLw54",
        "outputId": "40f0e4db-efc5-4a2c-f6a0-41de452cca8a"
      },
      "outputs": [
        {
          "output_type": "execute_result",
          "data": {
            "text/plain": [
              "'decision tree.pdf'"
            ],
            "application/vnd.google.colaboratory.intrinsic+json": {
              "type": "string"
            }
          },
          "metadata": {},
          "execution_count": 137
        }
      ],
      "source": [
        "dot_data = tree.export_graphviz(cls, out_file=None) \n",
        "graph = graphviz.Source(dot_data) \n",
        "graph.render(\"decision tree\") "
      ]
    },
    {
      "cell_type": "markdown",
      "source": [
        "**Pre Pruning the tree**"
      ],
      "metadata": {
        "id": "yxeNnhnfkSAI"
      }
    },
    {
      "cell_type": "markdown",
      "source": [
        "Getting the best parameters through GridSearchCV"
      ],
      "metadata": {
        "id": "bmB1ZoIxkaBk"
      }
    },
    {
      "cell_type": "code",
      "source": [
        "params={\"max_depth\":[3,7,9,10,11,12,13,14],\"min_samples_leaf\":[1,2,3,4],\"min_samples_split\":[2,3,4,6,8]}\n",
        "pre_pruned=tree.DecisionTreeClassifier(criterion=\"entropy\",random_state=1)\n",
        "grid_search=GridSearchCV(pre_pruned,params)\n",
        "grid_search.fit(x_train,y_train)\n",
        "print('Initial parameters: ', grid_search.best_params_)"
      ],
      "metadata": {
        "colab": {
          "base_uri": "https://localhost:8080/"
        },
        "id": "ODmh8MdRPxD4",
        "outputId": "df881bba-4b38-4188-cc4e-81a7fc3839bb"
      },
      "execution_count": 138,
      "outputs": [
        {
          "output_type": "stream",
          "name": "stdout",
          "text": [
            "Initial parameters:  {'max_depth': 11, 'min_samples_leaf': 1, 'min_samples_split': 2}\n"
          ]
        }
      ]
    },
    {
      "cell_type": "markdown",
      "source": [
        "Fitting the trained data to pruned tree"
      ],
      "metadata": {
        "id": "9Gc8dE1Qdmii"
      }
    },
    {
      "cell_type": "code",
      "source": [
        "\n",
        "pre_pruned_tree=tree.DecisionTreeClassifier(random_state=1,max_depth=11,min_samples_leaf=1, min_samples_split=2,criterion=\"entropy\")\n",
        "pre_pruned_tree.fit(x_train,y_train)\n"
      ],
      "metadata": {
        "colab": {
          "base_uri": "https://localhost:8080/"
        },
        "id": "sIvnl3Skkkvd",
        "outputId": "fa1c54a0-893d-4458-8238-7a40b81698ce"
      },
      "execution_count": 139,
      "outputs": [
        {
          "output_type": "execute_result",
          "data": {
            "text/plain": [
              "DecisionTreeClassifier(criterion='entropy', max_depth=11, random_state=1)"
            ]
          },
          "metadata": {},
          "execution_count": 139
        }
      ]
    },
    {
      "cell_type": "markdown",
      "source": [
        "Depth, Leaf Nodes and Test Score"
      ],
      "metadata": {
        "id": "GNOm_HWapW9D"
      }
    },
    {
      "cell_type": "code",
      "source": [
        "print(\"Depth: \",pre_pruned_tree.get_depth())\n",
        "print(\"Number of Leaves: \",find_leaf_nodes(pre_pruned_tree))\n",
        "print(\"Number of Nodes: \",pre_pruned_tree.tree_.node_count)\n",
        "\n",
        "print(\"Test Score: \",pre_pruned_tree.score(x_test,y_test))\n",
        "print(\"Training Score: \",pre_pruned_tree.score(x_train,y_train))"
      ],
      "metadata": {
        "colab": {
          "base_uri": "https://localhost:8080/"
        },
        "id": "YM1ysNmFmcg6",
        "outputId": "7337d1ab-74c6-4090-a87a-0aa509faaf15"
      },
      "execution_count": 163,
      "outputs": [
        {
          "output_type": "stream",
          "name": "stdout",
          "text": [
            "Depth:  11\n",
            "Number of Leaves:  69\n",
            "Number of Nodes:  137\n",
            "Test Score:  0.9653179190751445\n",
            "Training Score:  0.997104247104247\n"
          ]
        }
      ]
    },
    {
      "cell_type": "markdown",
      "source": [
        "Plot of the pruned tree"
      ],
      "metadata": {
        "id": "wZDp2SIfpcbK"
      }
    },
    {
      "cell_type": "code",
      "source": [
        "plt.figure(figsize=(12,8))\n",
        "tree.plot_tree(pre_pruned_tree,rounded=True,filled=True) "
      ],
      "metadata": {
        "colab": {
          "base_uri": "https://localhost:8080/",
          "height": 1000
        },
        "id": "GnrvJtJImpFQ",
        "outputId": "43f0c9d6-957a-4616-9d0c-58be2cb8f1be"
      },
      "execution_count": 164,
      "outputs": [
        {
          "output_type": "execute_result",
          "data": {
            "text/plain": [
              "[Text(0.538527397260274, 0.9583333333333334, 'X[3] <= 0.5\\nentropy = 1.202\\nsamples = 1036\\nvalue = [229, 40, 727, 40]'),\n",
              " Text(0.5248287671232876, 0.875, 'entropy = 0.0\\nsamples = 347\\nvalue = [0, 0, 347, 0]'),\n",
              " Text(0.5522260273972602, 0.875, 'X[5] <= 0.5\\nentropy = 1.478\\nsamples = 689\\nvalue = [229, 40, 380, 40]'),\n",
              " Text(0.2966609589041096, 0.7916666666666666, 'X[1] <= 2.5\\nentropy = 1.685\\nsamples = 230\\nvalue = [123, 18, 49, 40]'),\n",
              " Text(0.15496575342465754, 0.7083333333333334, 'X[0] <= 0.5\\nentropy = 1.65\\nsamples = 173\\nvalue = [96, 18, 19, 40]'),\n",
              " Text(0.0410958904109589, 0.625, 'X[2] <= 0.5\\nentropy = 0.239\\nsamples = 51\\nvalue = [49, 0, 2, 0]'),\n",
              " Text(0.0273972602739726, 0.5416666666666666, 'X[4] <= 1.5\\nentropy = 0.684\\nsamples = 11\\nvalue = [9, 0, 2, 0]'),\n",
              " Text(0.0136986301369863, 0.4583333333333333, 'entropy = 0.0\\nsamples = 6\\nvalue = [6, 0, 0, 0]'),\n",
              " Text(0.0410958904109589, 0.4583333333333333, 'X[3] <= 1.5\\nentropy = 0.971\\nsamples = 5\\nvalue = [3, 0, 2, 0]'),\n",
              " Text(0.0273972602739726, 0.375, 'entropy = 0.0\\nsamples = 3\\nvalue = [3, 0, 0, 0]'),\n",
              " Text(0.0547945205479452, 0.375, 'entropy = 0.0\\nsamples = 2\\nvalue = [0, 0, 2, 0]'),\n",
              " Text(0.0547945205479452, 0.5416666666666666, 'entropy = 0.0\\nsamples = 40\\nvalue = [40, 0, 0, 0]'),\n",
              " Text(0.2688356164383562, 0.625, 'X[0] <= 2.5\\nentropy = 1.861\\nsamples = 122\\nvalue = [47, 18, 17, 40]'),\n",
              " Text(0.1815068493150685, 0.5416666666666666, 'X[4] <= 1.5\\nentropy = 1.701\\nsamples = 84\\nvalue = [22, 18, 4, 40]'),\n",
              " Text(0.1095890410958904, 0.4583333333333333, 'X[1] <= 0.5\\nentropy = 1.069\\nsamples = 54\\nvalue = [9, 5, 0, 40]'),\n",
              " Text(0.0821917808219178, 0.375, 'X[0] <= 1.5\\nentropy = 0.996\\nsamples = 13\\nvalue = [7, 0, 0, 6]'),\n",
              " Text(0.0684931506849315, 0.2916666666666667, 'entropy = 0.0\\nsamples = 6\\nvalue = [0, 0, 0, 6]'),\n",
              " Text(0.0958904109589041, 0.2916666666666667, 'entropy = 0.0\\nsamples = 7\\nvalue = [7, 0, 0, 0]'),\n",
              " Text(0.136986301369863, 0.375, 'X[4] <= 0.5\\nentropy = 0.807\\nsamples = 41\\nvalue = [2, 5, 0, 34]'),\n",
              " Text(0.1232876712328767, 0.2916666666666667, 'entropy = 0.0\\nsamples = 20\\nvalue = [0, 0, 0, 20]'),\n",
              " Text(0.1506849315068493, 0.2916666666666667, 'X[2] <= 1.5\\nentropy = 1.206\\nsamples = 21\\nvalue = [2, 5, 0, 14]'),\n",
              " Text(0.136986301369863, 0.20833333333333334, 'X[3] <= 1.5\\nentropy = 1.485\\nsamples = 10\\nvalue = [2, 5, 0, 3]'),\n",
              " Text(0.1095890410958904, 0.125, 'X[1] <= 1.5\\nentropy = 0.918\\nsamples = 6\\nvalue = [2, 4, 0, 0]'),\n",
              " Text(0.0958904109589041, 0.041666666666666664, 'entropy = 0.0\\nsamples = 3\\nvalue = [0, 3, 0, 0]'),\n",
              " Text(0.1232876712328767, 0.041666666666666664, 'entropy = 0.918\\nsamples = 3\\nvalue = [2, 1, 0, 0]'),\n",
              " Text(0.1643835616438356, 0.125, 'X[2] <= 0.5\\nentropy = 0.811\\nsamples = 4\\nvalue = [0, 1, 0, 3]'),\n",
              " Text(0.1506849315068493, 0.041666666666666664, 'entropy = 0.0\\nsamples = 1\\nvalue = [0, 1, 0, 0]'),\n",
              " Text(0.1780821917808219, 0.041666666666666664, 'entropy = 0.0\\nsamples = 3\\nvalue = [0, 0, 0, 3]'),\n",
              " Text(0.1643835616438356, 0.20833333333333334, 'entropy = 0.0\\nsamples = 11\\nvalue = [0, 0, 0, 11]'),\n",
              " Text(0.2534246575342466, 0.4583333333333333, 'X[1] <= 0.5\\nentropy = 1.433\\nsamples = 30\\nvalue = [13, 13, 4, 0]'),\n",
              " Text(0.2191780821917808, 0.375, 'X[2] <= 0.5\\nentropy = 0.469\\nsamples = 10\\nvalue = [9, 0, 1, 0]'),\n",
              " Text(0.2054794520547945, 0.2916666666666667, 'X[0] <= 1.5\\nentropy = 1.0\\nsamples = 2\\nvalue = [1, 0, 1, 0]'),\n",
              " Text(0.1917808219178082, 0.20833333333333334, 'entropy = 0.0\\nsamples = 1\\nvalue = [1, 0, 0, 0]'),\n",
              " Text(0.2191780821917808, 0.20833333333333334, 'entropy = 0.0\\nsamples = 1\\nvalue = [0, 0, 1, 0]'),\n",
              " Text(0.2328767123287671, 0.2916666666666667, 'entropy = 0.0\\nsamples = 8\\nvalue = [8, 0, 0, 0]'),\n",
              " Text(0.2876712328767123, 0.375, 'X[2] <= 0.5\\nentropy = 1.279\\nsamples = 20\\nvalue = [4, 13, 3, 0]'),\n",
              " Text(0.2602739726027397, 0.2916666666666667, 'X[3] <= 1.5\\nentropy = 0.971\\nsamples = 5\\nvalue = [0, 2, 3, 0]'),\n",
              " Text(0.2465753424657534, 0.20833333333333334, 'entropy = 0.0\\nsamples = 2\\nvalue = [0, 2, 0, 0]'),\n",
              " Text(0.273972602739726, 0.20833333333333334, 'entropy = 0.0\\nsamples = 3\\nvalue = [0, 0, 3, 0]'),\n",
              " Text(0.3150684931506849, 0.2916666666666667, 'X[0] <= 1.5\\nentropy = 0.837\\nsamples = 15\\nvalue = [4, 11, 0, 0]'),\n",
              " Text(0.3013698630136986, 0.20833333333333334, 'entropy = 0.0\\nsamples = 7\\nvalue = [0, 7, 0, 0]'),\n",
              " Text(0.3287671232876712, 0.20833333333333334, 'X[1] <= 1.5\\nentropy = 1.0\\nsamples = 8\\nvalue = [4, 4, 0, 0]'),\n",
              " Text(0.3150684931506849, 0.125, 'entropy = 0.0\\nsamples = 4\\nvalue = [0, 4, 0, 0]'),\n",
              " Text(0.3424657534246575, 0.125, 'entropy = 0.0\\nsamples = 4\\nvalue = [4, 0, 0, 0]'),\n",
              " Text(0.3561643835616438, 0.5416666666666666, 'X[1] <= 0.5\\nentropy = 0.927\\nsamples = 38\\nvalue = [25, 0, 13, 0]'),\n",
              " Text(0.3424657534246575, 0.4583333333333333, 'entropy = 0.0\\nsamples = 12\\nvalue = [0, 0, 12, 0]'),\n",
              " Text(0.3698630136986301, 0.4583333333333333, 'X[2] <= 0.5\\nentropy = 0.235\\nsamples = 26\\nvalue = [25, 0, 1, 0]'),\n",
              " Text(0.3561643835616438, 0.375, 'X[4] <= 1.5\\nentropy = 0.592\\nsamples = 7\\nvalue = [6, 0, 1, 0]'),\n",
              " Text(0.3424657534246575, 0.2916666666666667, 'entropy = 0.0\\nsamples = 5\\nvalue = [5, 0, 0, 0]'),\n",
              " Text(0.3698630136986301, 0.2916666666666667, 'X[3] <= 1.5\\nentropy = 1.0\\nsamples = 2\\nvalue = [1, 0, 1, 0]'),\n",
              " Text(0.3561643835616438, 0.20833333333333334, 'entropy = 0.0\\nsamples = 1\\nvalue = [1, 0, 0, 0]'),\n",
              " Text(0.3835616438356164, 0.20833333333333334, 'entropy = 0.0\\nsamples = 1\\nvalue = [0, 0, 1, 0]'),\n",
              " Text(0.3835616438356164, 0.375, 'entropy = 0.0\\nsamples = 19\\nvalue = [19, 0, 0, 0]'),\n",
              " Text(0.4383561643835616, 0.7083333333333334, 'X[0] <= 0.5\\nentropy = 0.998\\nsamples = 57\\nvalue = [27, 0, 30, 0]'),\n",
              " Text(0.4246575342465753, 0.625, 'entropy = 0.0\\nsamples = 16\\nvalue = [0, 0, 16, 0]'),\n",
              " Text(0.4520547945205479, 0.625, 'X[0] <= 2.5\\nentropy = 0.926\\nsamples = 41\\nvalue = [27, 0, 14, 0]'),\n",
              " Text(0.4383561643835616, 0.5416666666666666, 'X[2] <= 0.5\\nentropy = 0.222\\nsamples = 28\\nvalue = [27, 0, 1, 0]'),\n",
              " Text(0.4246575342465753, 0.4583333333333333, 'X[4] <= 1.5\\nentropy = 0.544\\nsamples = 8\\nvalue = [7, 0, 1, 0]'),\n",
              " Text(0.410958904109589, 0.375, 'entropy = 0.0\\nsamples = 5\\nvalue = [5, 0, 0, 0]'),\n",
              " Text(0.4383561643835616, 0.375, 'X[3] <= 1.5\\nentropy = 0.918\\nsamples = 3\\nvalue = [2, 0, 1, 0]'),\n",
              " Text(0.4246575342465753, 0.2916666666666667, 'entropy = 0.0\\nsamples = 2\\nvalue = [2, 0, 0, 0]'),\n",
              " Text(0.4520547945205479, 0.2916666666666667, 'entropy = 0.0\\nsamples = 1\\nvalue = [0, 0, 1, 0]'),\n",
              " Text(0.4520547945205479, 0.4583333333333333, 'entropy = 0.0\\nsamples = 20\\nvalue = [20, 0, 0, 0]'),\n",
              " Text(0.4657534246575342, 0.5416666666666666, 'entropy = 0.0\\nsamples = 13\\nvalue = [0, 0, 13, 0]'),\n",
              " Text(0.807791095890411, 0.7916666666666666, 'X[5] <= 1.5\\nentropy = 1.039\\nsamples = 459\\nvalue = [106, 22, 331, 0]'),\n",
              " Text(0.7940924657534246, 0.7083333333333334, 'entropy = 0.0\\nsamples = 232\\nvalue = [0, 0, 232, 0]'),\n",
              " Text(0.8214897260273972, 0.7083333333333334, 'X[0] <= 2.5\\nentropy = 1.361\\nsamples = 227\\nvalue = [106, 22, 99, 0]'),\n",
              " Text(0.711472602739726, 0.625, 'X[4] <= 1.5\\nentropy = 1.371\\nsamples = 176\\nvalue = [98, 22, 56, 0]'),\n",
              " Text(0.5873287671232876, 0.5416666666666666, 'X[0] <= 0.5\\nentropy = 1.327\\nsamples = 115\\nvalue = [72, 22, 21, 0]'),\n",
              " Text(0.5068493150684932, 0.4583333333333333, 'X[1] <= 2.5\\nentropy = 0.954\\nsamples = 40\\nvalue = [25, 0, 15, 0]'),\n",
              " Text(0.4931506849315068, 0.375, 'X[2] <= 1.5\\nentropy = 0.799\\nsamples = 33\\nvalue = [25, 0, 8, 0]'),\n",
              " Text(0.4794520547945205, 0.2916666666666667, 'X[4] <= 0.5\\nentropy = 0.961\\nsamples = 13\\nvalue = [5, 0, 8, 0]'),\n",
              " Text(0.4657534246575342, 0.20833333333333334, 'entropy = 0.0\\nsamples = 5\\nvalue = [5, 0, 0, 0]'),\n",
              " Text(0.4931506849315068, 0.20833333333333334, 'entropy = 0.0\\nsamples = 8\\nvalue = [0, 0, 8, 0]'),\n",
              " Text(0.5068493150684932, 0.2916666666666667, 'entropy = 0.0\\nsamples = 20\\nvalue = [20, 0, 0, 0]'),\n",
              " Text(0.5205479452054794, 0.375, 'entropy = 0.0\\nsamples = 7\\nvalue = [0, 0, 7, 0]'),\n",
              " Text(0.6678082191780822, 0.4583333333333333, 'X[1] <= 2.5\\nentropy = 1.233\\nsamples = 75\\nvalue = [47, 22, 6, 0]'),\n",
              " Text(0.5958904109589042, 0.375, 'X[1] <= 0.5\\nentropy = 1.175\\nsamples = 54\\nvalue = [30, 22, 2, 0]'),\n",
              " Text(0.5342465753424658, 0.2916666666666667, 'X[4] <= 0.5\\nentropy = 0.454\\nsamples = 21\\nvalue = [19, 0, 2, 0]'),\n",
              " Text(0.5205479452054794, 0.20833333333333334, 'entropy = 0.0\\nsamples = 11\\nvalue = [11, 0, 0, 0]'),\n",
              " Text(0.547945205479452, 0.20833333333333334, 'X[0] <= 1.5\\nentropy = 0.722\\nsamples = 10\\nvalue = [8, 0, 2, 0]'),\n",
              " Text(0.5342465753424658, 0.125, 'entropy = 0.0\\nsamples = 4\\nvalue = [4, 0, 0, 0]'),\n",
              " Text(0.5616438356164384, 0.125, 'X[2] <= 1.5\\nentropy = 0.918\\nsamples = 6\\nvalue = [4, 0, 2, 0]'),\n",
              " Text(0.547945205479452, 0.041666666666666664, 'entropy = 0.918\\nsamples = 3\\nvalue = [1, 0, 2, 0]'),\n",
              " Text(0.5753424657534246, 0.041666666666666664, 'entropy = 0.0\\nsamples = 3\\nvalue = [3, 0, 0, 0]'),\n",
              " Text(0.6575342465753424, 0.2916666666666667, 'X[0] <= 1.5\\nentropy = 0.918\\nsamples = 33\\nvalue = [11, 22, 0, 0]'),\n",
              " Text(0.6301369863013698, 0.20833333333333334, 'X[2] <= 0.5\\nentropy = 0.353\\nsamples = 15\\nvalue = [1, 14, 0, 0]'),\n",
              " Text(0.6164383561643836, 0.125, 'X[4] <= 0.5\\nentropy = 0.918\\nsamples = 3\\nvalue = [1, 2, 0, 0]'),\n",
              " Text(0.6027397260273972, 0.041666666666666664, 'entropy = 0.0\\nsamples = 2\\nvalue = [0, 2, 0, 0]'),\n",
              " Text(0.6301369863013698, 0.041666666666666664, 'entropy = 0.0\\nsamples = 1\\nvalue = [1, 0, 0, 0]'),\n",
              " Text(0.6438356164383562, 0.125, 'entropy = 0.0\\nsamples = 12\\nvalue = [0, 12, 0, 0]'),\n",
              " Text(0.684931506849315, 0.20833333333333334, 'X[1] <= 1.5\\nentropy = 0.991\\nsamples = 18\\nvalue = [10, 8, 0, 0]'),\n",
              " Text(0.6712328767123288, 0.125, 'X[2] <= 0.5\\nentropy = 0.845\\nsamples = 11\\nvalue = [3, 8, 0, 0]'),\n",
              " Text(0.6575342465753424, 0.041666666666666664, 'entropy = 0.0\\nsamples = 2\\nvalue = [2, 0, 0, 0]'),\n",
              " Text(0.684931506849315, 0.041666666666666664, 'entropy = 0.503\\nsamples = 9\\nvalue = [1, 8, 0, 0]'),\n",
              " Text(0.6986301369863014, 0.125, 'entropy = 0.0\\nsamples = 7\\nvalue = [7, 0, 0, 0]'),\n",
              " Text(0.7397260273972602, 0.375, 'X[4] <= 0.5\\nentropy = 0.702\\nsamples = 21\\nvalue = [17, 0, 4, 0]'),\n",
              " Text(0.726027397260274, 0.2916666666666667, 'entropy = 0.0\\nsamples = 11\\nvalue = [11, 0, 0, 0]'),\n",
              " Text(0.7534246575342466, 0.2916666666666667, 'X[2] <= 1.5\\nentropy = 0.971\\nsamples = 10\\nvalue = [6, 0, 4, 0]'),\n",
              " Text(0.7397260273972602, 0.20833333333333334, 'X[2] <= 0.5\\nentropy = 0.722\\nsamples = 5\\nvalue = [1, 0, 4, 0]'),\n",
              " Text(0.726027397260274, 0.125, 'entropy = 0.0\\nsamples = 3\\nvalue = [0, 0, 3, 0]'),\n",
              " Text(0.7534246575342466, 0.125, 'X[3] <= 1.5\\nentropy = 1.0\\nsamples = 2\\nvalue = [1, 0, 1, 0]'),\n",
              " Text(0.7397260273972602, 0.041666666666666664, 'entropy = 0.0\\nsamples = 1\\nvalue = [0, 0, 1, 0]'),\n",
              " Text(0.7671232876712328, 0.041666666666666664, 'entropy = 0.0\\nsamples = 1\\nvalue = [1, 0, 0, 0]'),\n",
              " Text(0.7671232876712328, 0.20833333333333334, 'entropy = 0.0\\nsamples = 5\\nvalue = [5, 0, 0, 0]'),\n",
              " Text(0.8356164383561644, 0.5416666666666666, 'X[0] <= 0.5\\nentropy = 0.984\\nsamples = 61\\nvalue = [26, 0, 35, 0]'),\n",
              " Text(0.821917808219178, 0.4583333333333333, 'entropy = 0.0\\nsamples = 19\\nvalue = [0, 0, 19, 0]'),\n",
              " Text(0.8493150684931506, 0.4583333333333333, 'X[1] <= 2.5\\nentropy = 0.959\\nsamples = 42\\nvalue = [26, 0, 16, 0]'),\n",
              " Text(0.8356164383561644, 0.375, 'X[2] <= 0.5\\nentropy = 0.746\\nsamples = 33\\nvalue = [26, 0, 7, 0]'),\n",
              " Text(0.8082191780821918, 0.2916666666666667, 'X[3] <= 1.5\\nentropy = 0.918\\nsamples = 6\\nvalue = [2, 0, 4, 0]'),\n",
              " Text(0.7945205479452054, 0.20833333333333334, 'X[1] <= 0.5\\nentropy = 0.918\\nsamples = 3\\nvalue = [2, 0, 1, 0]'),\n",
              " Text(0.7808219178082192, 0.125, 'entropy = 0.0\\nsamples = 1\\nvalue = [0, 0, 1, 0]'),\n",
              " Text(0.8082191780821918, 0.125, 'entropy = 0.0\\nsamples = 2\\nvalue = [2, 0, 0, 0]'),\n",
              " Text(0.821917808219178, 0.20833333333333334, 'entropy = 0.0\\nsamples = 3\\nvalue = [0, 0, 3, 0]'),\n",
              " Text(0.863013698630137, 0.2916666666666667, 'X[1] <= 0.5\\nentropy = 0.503\\nsamples = 27\\nvalue = [24, 0, 3, 0]'),\n",
              " Text(0.8493150684931506, 0.20833333333333334, 'X[0] <= 1.5\\nentropy = 0.954\\nsamples = 8\\nvalue = [5, 0, 3, 0]'),\n",
              " Text(0.8356164383561644, 0.125, 'entropy = 0.0\\nsamples = 5\\nvalue = [5, 0, 0, 0]'),\n",
              " Text(0.863013698630137, 0.125, 'entropy = 0.0\\nsamples = 3\\nvalue = [0, 0, 3, 0]'),\n",
              " Text(0.8767123287671232, 0.20833333333333334, 'entropy = 0.0\\nsamples = 19\\nvalue = [19, 0, 0, 0]'),\n",
              " Text(0.863013698630137, 0.375, 'entropy = 0.0\\nsamples = 9\\nvalue = [0, 0, 9, 0]'),\n",
              " Text(0.9315068493150684, 0.625, 'X[4] <= 0.5\\nentropy = 0.627\\nsamples = 51\\nvalue = [8, 0, 43, 0]'),\n",
              " Text(0.8904109589041096, 0.5416666666666666, 'X[1] <= 0.5\\nentropy = 0.989\\nsamples = 16\\nvalue = [7, 0, 9, 0]'),\n",
              " Text(0.8767123287671232, 0.4583333333333333, 'entropy = 0.0\\nsamples = 5\\nvalue = [0, 0, 5, 0]'),\n",
              " Text(0.9041095890410958, 0.4583333333333333, 'X[1] <= 2.5\\nentropy = 0.946\\nsamples = 11\\nvalue = [7, 0, 4, 0]'),\n",
              " Text(0.8904109589041096, 0.375, 'entropy = 0.0\\nsamples = 7\\nvalue = [7, 0, 0, 0]'),\n",
              " Text(0.9178082191780822, 0.375, 'entropy = 0.0\\nsamples = 4\\nvalue = [0, 0, 4, 0]'),\n",
              " Text(0.9726027397260274, 0.5416666666666666, 'X[4] <= 1.5\\nentropy = 0.187\\nsamples = 35\\nvalue = [1, 0, 34, 0]'),\n",
              " Text(0.958904109589041, 0.4583333333333333, 'X[2] <= 1.5\\nentropy = 0.353\\nsamples = 15\\nvalue = [1, 0, 14, 0]'),\n",
              " Text(0.9452054794520548, 0.375, 'entropy = 0.0\\nsamples = 8\\nvalue = [0, 0, 8, 0]'),\n",
              " Text(0.9726027397260274, 0.375, 'X[2] <= 2.5\\nentropy = 0.592\\nsamples = 7\\nvalue = [1, 0, 6, 0]'),\n",
              " Text(0.958904109589041, 0.2916666666666667, 'X[3] <= 1.5\\nentropy = 0.811\\nsamples = 4\\nvalue = [1, 0, 3, 0]'),\n",
              " Text(0.9452054794520548, 0.20833333333333334, 'X[1] <= 0.5\\nentropy = 1.0\\nsamples = 2\\nvalue = [1, 0, 1, 0]'),\n",
              " Text(0.9315068493150684, 0.125, 'entropy = 0.0\\nsamples = 1\\nvalue = [0, 0, 1, 0]'),\n",
              " Text(0.958904109589041, 0.125, 'entropy = 0.0\\nsamples = 1\\nvalue = [1, 0, 0, 0]'),\n",
              " Text(0.9726027397260274, 0.20833333333333334, 'entropy = 0.0\\nsamples = 2\\nvalue = [0, 0, 2, 0]'),\n",
              " Text(0.9863013698630136, 0.2916666666666667, 'entropy = 0.0\\nsamples = 3\\nvalue = [0, 0, 3, 0]'),\n",
              " Text(0.9863013698630136, 0.4583333333333333, 'entropy = 0.0\\nsamples = 20\\nvalue = [0, 0, 20, 0]')]"
            ]
          },
          "metadata": {},
          "execution_count": 164
        },
        {
          "output_type": "display_data",
          "data": {
            "text/plain": [
              "<Figure size 864x576 with 1 Axes>"
            ],
            "image/png": "[encoded data removed]"
          },
          "metadata": {
            "needs_background": "light"
          }
        }
      ]
    },
    {
      "cell_type": "code",
      "source": [
        "path=cls.cost_complexity_pruning_path(x_train,y_train)\n",
        "ccp_alphas,impurities=path.ccp_alphas,path.impurities\n",
        "clfs=[]   #will store all the models here\n",
        "for ccp_alpha in ccp_alphas:\n",
        "    clf=tree.DecisionTreeClassifier(random_state=0,ccp_alpha=ccp_alpha)\n",
        "    clf.fit(x_train,y_train)\n",
        "    clfs.append(clf)\n",
        "\n"
      ],
      "metadata": {
        "id": "IZBXxyqSSO0-"
      },
      "execution_count": 149,
      "outputs": []
    },
    {
      "cell_type": "code",
      "source": [
        "train_scores = [clf.score(x_train, y_train) for clf in clfs]\n",
        "test_scores = [clf.score(x_val, y_val) for clf in clfs]\n",
        "fig, ax = plt.subplots()\n",
        "ax.set_xlabel(\"alpha\")\n",
        "ax.set_ylabel(\"accuracy\")\n",
        "ax.set_title(\"Accuracy vs alpha for training and testing sets\")\n",
        "ax.plot(ccp_alphas, train_scores, marker='*',label=\"train\",drawstyle=\"steps-post\")\n",
        "ax.plot(ccp_alphas, test_scores, marker='.', label=\"test\",drawstyle=\"steps-post\")\n",
        "ax.legend()\n",
        "plt.show()"
      ],
      "metadata": {
        "colab": {
          "base_uri": "https://localhost:8080/",
          "height": 295
        },
        "id": "s4UK7NNxSzWQ",
        "outputId": "bbe51d84-ed27-4b87-dd7c-d710c0aeb104"
      },
      "execution_count": 150,
      "outputs": [
        {
          "output_type": "display_data",
          "data": {
            "text/plain": [
              "<Figure size 432x288 with 1 Axes>"
            ],
            "image/png": "[encoded data removed]"
          },
          "metadata": {
            "needs_background": "light"
          }
        }
      ]
    },
    {
      "cell_type": "code",
      "source": [
        "clf=tree.DecisionTreeClassifier(random_state=0,ccp_alpha=0.002, criterion=\"entropy\")\n",
        "clf.fit(x_train,y_train)\n",
        "plt.figure(figsize=(12,8))\n",
        "tree.plot_tree(clf,rounded=True,filled=True)\n",
        "plt.show()\n",
        "\n"
      ],
      "metadata": {
        "id": "7x0wIe7XrJmf",
        "colab": {
          "base_uri": "https://localhost:8080/",
          "height": 466
        },
        "outputId": "555df5fa-365d-4356-901d-dd95b49ddfaa"
      },
      "execution_count": 158,
      "outputs": [
        {
          "output_type": "display_data",
          "data": {
            "text/plain": [
              "<Figure size 864x576 with 1 Axes>"
            ],
            "image/png": "[encoded data removed]"
          },
          "metadata": {
            "needs_background": "light"
          }
        }
      ]
    },
    {
      "cell_type": "markdown",
      "source": [
        "Depth, Total Nodes and Leaf Nodes"
      ],
      "metadata": {
        "id": "XImnM-a488W9"
      }
    },
    {
      "cell_type": "code",
      "source": [
        "print(\"Depth: \",clf.get_depth())\n",
        "print(\"Number of Leaves: \",find_leaf_nodes(clf))\n",
        "print(\"Number of Nodes: \",clf.tree_.node_count)"
      ],
      "metadata": {
        "colab": {
          "base_uri": "https://localhost:8080/"
        },
        "id": "seOjoxjt4cwG",
        "outputId": "6081288c-016e-421c-bf4d-f16efde74893"
      },
      "execution_count": 167,
      "outputs": [
        {
          "output_type": "stream",
          "name": "stdout",
          "text": [
            "Depth:  12\n",
            "Number of Leaves:  60\n",
            "Number of Nodes:  119\n"
          ]
        }
      ]
    },
    {
      "cell_type": "markdown",
      "source": [
        "Score of post pruned tree\n"
      ],
      "metadata": {
        "id": "yHZDBMge8-uL"
      }
    },
    {
      "cell_type": "code",
      "source": [
        "print(\"Test Data Accuracy: \",clf.score(x_val,y_val))\n",
        "print(\"Train Data Accuracy: \",clf.score(x_train,y_train))"
      ],
      "metadata": {
        "colab": {
          "base_uri": "https://localhost:8080/"
        },
        "id": "lPPRX0YCUtkK",
        "outputId": "3ba227b5-a4b4-4095-f1e6-390e362f6aa7"
      },
      "execution_count": 160,
      "outputs": [
        {
          "output_type": "stream",
          "name": "stdout",
          "text": [
            "Test Data Accuracy:  0.9594202898550724\n",
            "Train Data Accuracy:  0.9951737451737451\n"
          ]
        }
      ]
    }
  ],
  "metadata": {
    "colab": {
      "provenance": []
    },
    "kernelspec": {
      "display_name": "Python 3",
      "name": "python3"
    },
    "language_info": {
      "name": "python"
    }
  },
  "nbformat": 4,
  "nbformat_minor": 0
}