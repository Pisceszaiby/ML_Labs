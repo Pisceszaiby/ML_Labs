{
  "nbformat": 4,
  "nbformat_minor": 0,
  "metadata": {
    "colab": {
      "provenance": []
    },
    "kernelspec": {
      "name": "python3",
      "display_name": "Python 3"
    },
    "language_info": {
      "name": "python"
    }
  },
  "cells": [
    {
      "cell_type": "markdown",
      "source": [
        "**Submitted By: Zainab Anwaar**"
      ],
      "metadata": {
        "id": "FiDoP2IDld1A"
      }
    },
    {
      "cell_type": "markdown",
      "source": [
        "**CMS ID: 339636**\n"
      ],
      "metadata": {
        "id": "jz0aCeHXluUD"
      }
    },
    {
      "cell_type": "markdown",
      "source": [
        "Importing Libraries"
      ],
      "metadata": {
        "id": "Yydh9TCYlygT"
      }
    },
    {
      "cell_type": "code",
      "source": [
        "import numpy as np\n",
        "import tensorflow as tf\n",
        "from tensorflow import keras\n",
        "from tensorflow.keras import layers\n",
        "from tensorflow.keras.utils import to_categorical\n",
        "from sklearn.model_selection import train_test_split\n",
        "from sklearn.metrics import accuracy_score\n",
        "import matplotlib.pyplot as plt"
      ],
      "metadata": {
        "id": "kHVdrkl2l0YE"
      },
      "execution_count": 1,
      "outputs": []
    },
    {
      "cell_type": "markdown",
      "source": [
        "Loading and Splitting the Dataset\n"
      ],
      "metadata": {
        "id": "m7QvMjBZl7_k"
      }
    },
    {
      "cell_type": "code",
      "source": [
        "(x_train, y_train), (x_test, y_test) = keras.datasets.mnist.load_data()\n",
        "assert x_train.shape == (60000, 28, 28)\n",
        "assert x_test.shape == (10000, 28, 28)\n",
        "assert y_train.shape == (60000,)\n",
        "assert y_test.shape == (10000,)"
      ],
      "metadata": {
        "colab": {
          "base_uri": "https://localhost:8080/"
        },
        "id": "7Hph9t0Hl5oU",
        "outputId": "605ec3d0-784b-452e-833d-98d951017363"
      },
      "execution_count": 2,
      "outputs": [
        {
          "output_type": "stream",
          "name": "stdout",
          "text": [
            "Downloading data from https://storage.googleapis.com/tensorflow/tf-keras-datasets/mnist.npz\n",
            "11490434/11490434 [==============================] - 1s 0us/step\n"
          ]
        }
      ]
    },
    {
      "cell_type": "markdown",
      "source": [
        "Normalizing and Splitting the Dataset"
      ],
      "metadata": {
        "id": "dlu6JeiYmB_s"
      }
    },
    {
      "cell_type": "code",
      "source": [
        "x_train = x_train.reshape((x_train.shape[0], -1)).astype(\"float32\") / 255\n",
        "x_test = x_test.reshape((x_test.shape[0], -1)).astype(\"float32\") / 255\n",
        "\n",
        "y_train = to_categorical(y_train)\n",
        "y_test = to_categorical(y_test)\n"
      ],
      "metadata": {
        "id": "CgzMv5dcmBRc"
      },
      "execution_count": 3,
      "outputs": []
    },
    {
      "cell_type": "markdown",
      "source": [
        "Activation functions and Hidden Layer Nodes Number"
      ],
      "metadata": {
        "id": "DhfTttUHmgiL"
      }
    },
    {
      "cell_type": "code",
      "source": [
        "activation_functions = [\"sigmoid\", \"relu\", \"tanh\"]\n",
        "hidden_layer_sizes = [32, 64, 128, 256]"
      ],
      "metadata": {
        "id": "DeBxUmdJmlEU"
      },
      "execution_count": 4,
      "outputs": []
    },
    {
      "cell_type": "markdown",
      "source": [
        "Function for training and Evaluating the Dataset\n"
      ],
      "metadata": {
        "id": "gCEVizF8mvME"
      }
    },
    {
      "cell_type": "code",
      "source": [
        "def train_and_evaluate_model(model, x_train, y_train, x_test, y_test, epochs=10, batch_size=32):\n",
        "  \n",
        "    model.compile(loss=\"categorical_crossentropy\", optimizer=\"adam\", metrics=[\"accuracy\"])\n",
        "    history = model.fit(x_train, y_train, epochs=epochs, batch_size=batch_size)\n",
        "    _, accuracy = model.evaluate(x_test, y_test)\n",
        "    \n",
        "    return accuracy, history"
      ],
      "metadata": {
        "id": "zWN4pkF5mzoW"
      },
      "execution_count": 5,
      "outputs": []
    },
    {
      "cell_type": "markdown",
      "source": [
        "Training with Different Activation Functions and Number of Hidden Nodes"
      ],
      "metadata": {
        "id": "SFWB0q4VnSD-"
      }
    },
    {
      "cell_type": "code",
      "source": [
        "models = {}\n",
        "histories = {}\n",
        "best_accuracy=0.0;\n",
        "for activation in activation_functions:\n",
        "    for size in hidden_layer_sizes:\n",
        "\n",
        "        model = keras.Sequential([\n",
        "            layers.Dense(size, activation=activation, input_shape=(784,)),\n",
        "            layers.Dense(size, activation=activation),\n",
        "            layers.Dense(10, activation=\"softmax\")\n",
        "        ])\n",
        "        accuracy, history = train_and_evaluate_model(model, x_train, y_train, x_test, y_test)\n",
        "        if accuracy > best_accuracy:\n",
        "          best_model = model\n",
        "          best_accuracy = accuracy\n",
        "   \n",
        "        model_name = f\"{activation}_{size}\"\n",
        "        models[model_name] = model\n",
        "        histories[model_name] = history\n",
        "        \n",
        "\n",
        "        print(f\"Accuracy ({activation}, {size}): {accuracy:.2%}\")\n"
      ],
      "metadata": {
        "colab": {
          "base_uri": "https://localhost:8080/"
        },
        "id": "ng5rKj4xnafi",
        "outputId": "bcf8b2be-92ed-49e1-9fe9-3140f30d4c97"
      },
      "execution_count": 6,
      "outputs": [
        {
          "output_type": "stream",
          "name": "stdout",
          "text": [
            "Epoch 1/10\n",
            "1875/1875 [==============================] - 20s 9ms/step - loss: 0.7667 - accuracy: 0.8321\n",
            "Epoch 2/10\n",
            "1875/1875 [==============================] - 5s 2ms/step - loss: 0.2549 - accuracy: 0.9287\n",
            "Epoch 3/10\n",
            "1875/1875 [==============================] - 5s 3ms/step - loss: 0.1913 - accuracy: 0.9448\n",
            "Epoch 4/10\n",
            "1875/1875 [==============================] - 5s 2ms/step - loss: 0.1581 - accuracy: 0.9540\n",
            "Epoch 5/10\n",
            "1875/1875 [==============================] - 4s 2ms/step - loss: 0.1363 - accuracy: 0.9599\n",
            "Epoch 6/10\n",
            "1875/1875 [==============================] - 6s 3ms/step - loss: 0.1204 - accuracy: 0.9645\n",
            "Epoch 7/10\n",
            "1875/1875 [==============================] - 5s 2ms/step - loss: 0.1084 - accuracy: 0.9680\n",
            "Epoch 8/10\n",
            "1875/1875 [==============================] - 6s 3ms/step - loss: 0.0987 - accuracy: 0.9710\n",
            "Epoch 9/10\n",
            "1875/1875 [==============================] - 5s 2ms/step - loss: 0.0906 - accuracy: 0.9734\n",
            "Epoch 10/10\n",
            "1875/1875 [==============================] - 5s 3ms/step - loss: 0.0834 - accuracy: 0.9751\n",
            "313/313 [==============================] - 1s 3ms/step - loss: 0.1148 - accuracy: 0.9669\n",
            "Accuracy (sigmoid, 32): 96.69%\n",
            "Epoch 1/10\n",
            "1875/1875 [==============================] - 7s 3ms/step - loss: 0.5418 - accuracy: 0.8688\n",
            "Epoch 2/10\n",
            "1875/1875 [==============================] - 7s 4ms/step - loss: 0.2003 - accuracy: 0.9413\n",
            "Epoch 3/10\n",
            "1875/1875 [==============================] - 6s 3ms/step - loss: 0.1457 - accuracy: 0.9565\n",
            "Epoch 4/10\n",
            "1875/1875 [==============================] - 7s 4ms/step - loss: 0.1133 - accuracy: 0.9667\n",
            "Epoch 5/10\n",
            "1875/1875 [==============================] - 6s 3ms/step - loss: 0.0927 - accuracy: 0.9726\n",
            "Epoch 6/10\n",
            "1875/1875 [==============================] - 7s 3ms/step - loss: 0.0777 - accuracy: 0.9775\n",
            "Epoch 7/10\n",
            "1875/1875 [==============================] - 6s 3ms/step - loss: 0.0660 - accuracy: 0.9803\n",
            "Epoch 8/10\n",
            "1875/1875 [==============================] - 8s 4ms/step - loss: 0.0566 - accuracy: 0.9834\n",
            "Epoch 9/10\n",
            "1875/1875 [==============================] - 6s 3ms/step - loss: 0.0492 - accuracy: 0.9857\n",
            "Epoch 10/10\n",
            "1875/1875 [==============================] - 7s 4ms/step - loss: 0.0419 - accuracy: 0.9881\n",
            "313/313 [==============================] - 1s 2ms/step - loss: 0.0906 - accuracy: 0.9727\n",
            "Accuracy (sigmoid, 64): 97.27%\n",
            "Epoch 1/10\n",
            "1875/1875 [==============================] - 11s 6ms/step - loss: 0.4248 - accuracy: 0.8845\n",
            "Epoch 2/10\n",
            "1875/1875 [==============================] - 10s 5ms/step - loss: 0.1663 - accuracy: 0.9498\n",
            "Epoch 3/10\n",
            "1875/1875 [==============================] - 9s 5ms/step - loss: 0.1132 - accuracy: 0.9666\n",
            "Epoch 4/10\n",
            "1875/1875 [==============================] - 9s 5ms/step - loss: 0.0846 - accuracy: 0.9748\n",
            "Epoch 5/10\n",
            "1875/1875 [==============================] - 9s 5ms/step - loss: 0.0643 - accuracy: 0.9807\n",
            "Epoch 6/10\n",
            "1875/1875 [==============================] - 10s 6ms/step - loss: 0.0520 - accuracy: 0.9844\n",
            "Epoch 7/10\n",
            "1875/1875 [==============================] - 10s 5ms/step - loss: 0.0414 - accuracy: 0.9875\n",
            "Epoch 8/10\n",
            "1875/1875 [==============================] - 8s 4ms/step - loss: 0.0331 - accuracy: 0.9902\n",
            "Epoch 9/10\n",
            "1875/1875 [==============================] - 9s 5ms/step - loss: 0.0266 - accuracy: 0.9920\n",
            "Epoch 10/10\n",
            "1875/1875 [==============================] - 9s 5ms/step - loss: 0.0206 - accuracy: 0.9939\n",
            "313/313 [==============================] - 1s 2ms/step - loss: 0.0787 - accuracy: 0.9769\n",
            "Accuracy (sigmoid, 128): 97.69%\n",
            "Epoch 1/10\n",
            "1875/1875 [==============================] - 15s 7ms/step - loss: 0.3652 - accuracy: 0.8960\n",
            "Epoch 2/10\n",
            "1875/1875 [==============================] - 13s 7ms/step - loss: 0.1549 - accuracy: 0.9536\n",
            "Epoch 3/10\n",
            "1875/1875 [==============================] - 13s 7ms/step - loss: 0.1020 - accuracy: 0.9693\n",
            "Epoch 4/10\n",
            "1875/1875 [==============================] - 13s 7ms/step - loss: 0.0721 - accuracy: 0.9775\n",
            "Epoch 5/10\n",
            "1875/1875 [==============================] - 14s 7ms/step - loss: 0.0552 - accuracy: 0.9831\n",
            "Epoch 6/10\n",
            "1875/1875 [==============================] - 13s 7ms/step - loss: 0.0413 - accuracy: 0.9865\n",
            "Epoch 7/10\n",
            "1875/1875 [==============================] - 13s 7ms/step - loss: 0.0312 - accuracy: 0.9899\n",
            "Epoch 8/10\n",
            "1875/1875 [==============================] - 14s 7ms/step - loss: 0.0247 - accuracy: 0.9923\n",
            "Epoch 9/10\n",
            "1875/1875 [==============================] - 13s 7ms/step - loss: 0.0194 - accuracy: 0.9939\n",
            "Epoch 10/10\n",
            "1875/1875 [==============================] - 13s 7ms/step - loss: 0.0167 - accuracy: 0.9947\n",
            "313/313 [==============================] - 1s 3ms/step - loss: 0.0814 - accuracy: 0.9774\n",
            "Accuracy (sigmoid, 256): 97.74%\n",
            "Epoch 1/10\n",
            "1875/1875 [==============================] - 5s 3ms/step - loss: 0.3364 - accuracy: 0.9029\n",
            "Epoch 2/10\n",
            "1875/1875 [==============================] - 5s 3ms/step - loss: 0.1732 - accuracy: 0.9493\n",
            "Epoch 3/10\n",
            "1875/1875 [==============================] - 5s 3ms/step - loss: 0.1368 - accuracy: 0.9594\n",
            "Epoch 4/10\n",
            "1875/1875 [==============================] - 6s 3ms/step - loss: 0.1147 - accuracy: 0.9662\n",
            "Epoch 5/10\n",
            "1875/1875 [==============================] - 5s 2ms/step - loss: 0.1003 - accuracy: 0.9694\n",
            "Epoch 6/10\n",
            "1875/1875 [==============================] - 5s 2ms/step - loss: 0.0898 - accuracy: 0.9721\n",
            "Epoch 7/10\n",
            "1875/1875 [==============================] - 5s 3ms/step - loss: 0.0818 - accuracy: 0.9750\n",
            "Epoch 8/10\n",
            "1875/1875 [==============================] - 5s 2ms/step - loss: 0.0738 - accuracy: 0.9776\n",
            "Epoch 9/10\n",
            "1875/1875 [==============================] - 5s 3ms/step - loss: 0.0653 - accuracy: 0.9796\n",
            "Epoch 10/10\n",
            "1875/1875 [==============================] - 5s 2ms/step - loss: 0.0621 - accuracy: 0.9802\n",
            "313/313 [==============================] - 1s 2ms/step - loss: 0.1172 - accuracy: 0.9667\n",
            "Accuracy (relu, 32): 96.67%\n",
            "Epoch 1/10\n",
            "1875/1875 [==============================] - 6s 3ms/step - loss: 0.2781 - accuracy: 0.9192\n",
            "Epoch 2/10\n",
            "1875/1875 [==============================] - 7s 4ms/step - loss: 0.1273 - accuracy: 0.9605\n",
            "Epoch 3/10\n",
            "1875/1875 [==============================] - 6s 3ms/step - loss: 0.0914 - accuracy: 0.9724\n",
            "Epoch 4/10\n",
            "1875/1875 [==============================] - 7s 4ms/step - loss: 0.0711 - accuracy: 0.9780\n",
            "Epoch 5/10\n",
            "1875/1875 [==============================] - 6s 3ms/step - loss: 0.0587 - accuracy: 0.9814\n",
            "Epoch 6/10\n",
            "1875/1875 [==============================] - 8s 4ms/step - loss: 0.0498 - accuracy: 0.9843\n",
            "Epoch 7/10\n",
            "1875/1875 [==============================] - 6s 3ms/step - loss: 0.0427 - accuracy: 0.9863\n",
            "Epoch 8/10\n",
            "1875/1875 [==============================] - 7s 4ms/step - loss: 0.0370 - accuracy: 0.9876\n",
            "Epoch 9/10\n",
            "1875/1875 [==============================] - 6s 3ms/step - loss: 0.0312 - accuracy: 0.9898\n",
            "Epoch 10/10\n",
            "1875/1875 [==============================] - 7s 4ms/step - loss: 0.0280 - accuracy: 0.9909\n",
            "313/313 [==============================] - 1s 2ms/step - loss: 0.0908 - accuracy: 0.9765\n",
            "Accuracy (relu, 64): 97.65%\n",
            "Epoch 1/10\n",
            "1875/1875 [==============================] - 10s 5ms/step - loss: 0.2293 - accuracy: 0.9317\n",
            "Epoch 2/10\n",
            "1875/1875 [==============================] - 11s 6ms/step - loss: 0.0962 - accuracy: 0.9708\n",
            "Epoch 3/10\n",
            "1875/1875 [==============================] - 8s 4ms/step - loss: 0.0667 - accuracy: 0.9791\n",
            "Epoch 4/10\n",
            "1875/1875 [==============================] - 10s 5ms/step - loss: 0.0498 - accuracy: 0.9844\n",
            "Epoch 5/10\n",
            "1875/1875 [==============================] - 10s 5ms/step - loss: 0.0390 - accuracy: 0.9875\n",
            "Epoch 6/10\n",
            "1875/1875 [==============================] - 8s 4ms/step - loss: 0.0335 - accuracy: 0.9891\n",
            "Epoch 7/10\n",
            "1875/1875 [==============================] - 10s 6ms/step - loss: 0.0265 - accuracy: 0.9913\n",
            "Epoch 8/10\n",
            "1875/1875 [==============================] - 9s 5ms/step - loss: 0.0225 - accuracy: 0.9923\n",
            "Epoch 9/10\n",
            "1875/1875 [==============================] - 9s 5ms/step - loss: 0.0206 - accuracy: 0.9933\n",
            "Epoch 10/10\n",
            "1875/1875 [==============================] - 9s 5ms/step - loss: 0.0194 - accuracy: 0.9937\n",
            "313/313 [==============================] - 1s 2ms/step - loss: 0.1256 - accuracy: 0.9699\n",
            "Accuracy (relu, 128): 96.99%\n",
            "Epoch 1/10\n",
            "1875/1875 [==============================] - 13s 7ms/step - loss: 0.1987 - accuracy: 0.9412\n",
            "Epoch 2/10\n",
            "1875/1875 [==============================] - 14s 7ms/step - loss: 0.0835 - accuracy: 0.9736\n",
            "Epoch 3/10\n",
            "1875/1875 [==============================] - 13s 7ms/step - loss: 0.0582 - accuracy: 0.9814\n",
            "Epoch 4/10\n",
            "1875/1875 [==============================] - 13s 7ms/step - loss: 0.0425 - accuracy: 0.9859\n",
            "Epoch 5/10\n",
            "1875/1875 [==============================] - 14s 7ms/step - loss: 0.0357 - accuracy: 0.9882\n",
            "Epoch 6/10\n",
            "1875/1875 [==============================] - 13s 7ms/step - loss: 0.0284 - accuracy: 0.9908\n",
            "Epoch 7/10\n",
            "1875/1875 [==============================] - 13s 7ms/step - loss: 0.0244 - accuracy: 0.9918\n",
            "Epoch 8/10\n",
            "1875/1875 [==============================] - 13s 7ms/step - loss: 0.0206 - accuracy: 0.9929\n",
            "Epoch 9/10\n",
            "1875/1875 [==============================] - 14s 7ms/step - loss: 0.0184 - accuracy: 0.9939\n",
            "Epoch 10/10\n",
            "1875/1875 [==============================] - 13s 7ms/step - loss: 0.0179 - accuracy: 0.9941\n",
            "313/313 [==============================] - 1s 3ms/step - loss: 0.0837 - accuracy: 0.9824\n",
            "Accuracy (relu, 256): 98.24%\n",
            "Epoch 1/10\n",
            "1875/1875 [==============================] - 6s 2ms/step - loss: 0.3464 - accuracy: 0.9058\n",
            "Epoch 2/10\n",
            "1875/1875 [==============================] - 6s 3ms/step - loss: 0.1656 - accuracy: 0.9506\n",
            "Epoch 3/10\n",
            "1875/1875 [==============================] - 6s 3ms/step - loss: 0.1293 - accuracy: 0.9612\n",
            "Epoch 4/10\n",
            "1875/1875 [==============================] - 7s 4ms/step - loss: 0.1094 - accuracy: 0.9669\n",
            "Epoch 5/10\n",
            "1875/1875 [==============================] - 5s 3ms/step - loss: 0.0943 - accuracy: 0.9707\n",
            "Epoch 6/10\n",
            "1875/1875 [==============================] - 5s 3ms/step - loss: 0.0837 - accuracy: 0.9748\n",
            "Epoch 7/10\n",
            "1875/1875 [==============================] - 5s 3ms/step - loss: 0.0760 - accuracy: 0.9765\n",
            "Epoch 8/10\n",
            "1875/1875 [==============================] - 5s 2ms/step - loss: 0.0689 - accuracy: 0.9783\n",
            "Epoch 9/10\n",
            "1875/1875 [==============================] - 5s 3ms/step - loss: 0.0627 - accuracy: 0.9803\n",
            "Epoch 10/10\n",
            "1875/1875 [==============================] - 5s 2ms/step - loss: 0.0581 - accuracy: 0.9818\n",
            "313/313 [==============================] - 1s 2ms/step - loss: 0.1109 - accuracy: 0.9701\n",
            "Accuracy (tanh, 32): 97.01%\n",
            "Epoch 1/10\n",
            "1875/1875 [==============================] - 8s 4ms/step - loss: 0.2860 - accuracy: 0.9182\n",
            "Epoch 2/10\n",
            "1875/1875 [==============================] - 6s 3ms/step - loss: 0.1314 - accuracy: 0.9601\n",
            "Epoch 3/10\n",
            "1875/1875 [==============================] - 7s 4ms/step - loss: 0.0906 - accuracy: 0.9723\n",
            "Epoch 4/10\n",
            "1875/1875 [==============================] - 7s 4ms/step - loss: 0.0704 - accuracy: 0.9784\n",
            "Epoch 5/10\n",
            "1875/1875 [==============================] - 7s 4ms/step - loss: 0.0556 - accuracy: 0.9828\n",
            "Epoch 6/10\n",
            "1875/1875 [==============================] - 6s 3ms/step - loss: 0.0452 - accuracy: 0.9858\n",
            "Epoch 7/10\n",
            "1875/1875 [==============================] - 7s 3ms/step - loss: 0.0371 - accuracy: 0.9887\n",
            "Epoch 8/10\n",
            "1875/1875 [==============================] - 6s 3ms/step - loss: 0.0318 - accuracy: 0.9898\n",
            "Epoch 9/10\n",
            "1875/1875 [==============================] - 7s 4ms/step - loss: 0.0270 - accuracy: 0.9916\n",
            "Epoch 10/10\n",
            "1875/1875 [==============================] - 6s 3ms/step - loss: 0.0221 - accuracy: 0.9932\n",
            "313/313 [==============================] - 1s 2ms/step - loss: 0.0929 - accuracy: 0.9760\n",
            "Accuracy (tanh, 64): 97.60%\n",
            "Epoch 1/10\n",
            "1875/1875 [==============================] - 11s 6ms/step - loss: 0.2531 - accuracy: 0.9251\n",
            "Epoch 2/10\n",
            "1875/1875 [==============================] - 9s 5ms/step - loss: 0.1162 - accuracy: 0.9648\n",
            "Epoch 3/10\n",
            "1875/1875 [==============================] - 9s 5ms/step - loss: 0.0776 - accuracy: 0.9754\n",
            "Epoch 4/10\n",
            "1875/1875 [==============================] - 8s 4ms/step - loss: 0.0585 - accuracy: 0.9810\n",
            "Epoch 5/10\n",
            "1875/1875 [==============================] - 9s 5ms/step - loss: 0.0432 - accuracy: 0.9861\n",
            "Epoch 6/10\n",
            "1875/1875 [==============================] - 10s 6ms/step - loss: 0.0340 - accuracy: 0.9890\n",
            "Epoch 7/10\n",
            "1875/1875 [==============================] - 9s 5ms/step - loss: 0.0261 - accuracy: 0.9916\n",
            "Epoch 8/10\n",
            "1875/1875 [==============================] - 9s 5ms/step - loss: 0.0218 - accuracy: 0.9929\n",
            "Epoch 9/10\n",
            "1875/1875 [==============================] - 9s 5ms/step - loss: 0.0154 - accuracy: 0.9955\n",
            "Epoch 10/10\n",
            "1875/1875 [==============================] - 9s 5ms/step - loss: 0.0162 - accuracy: 0.9946\n",
            "313/313 [==============================] - 1s 3ms/step - loss: 0.0940 - accuracy: 0.9755\n",
            "Accuracy (tanh, 128): 97.55%\n",
            "Epoch 1/10\n",
            "1875/1875 [==============================] - 14s 7ms/step - loss: 0.2393 - accuracy: 0.9282\n",
            "Epoch 2/10\n",
            "1875/1875 [==============================] - 13s 7ms/step - loss: 0.1074 - accuracy: 0.9671\n",
            "Epoch 3/10\n",
            "1875/1875 [==============================] - 13s 7ms/step - loss: 0.0714 - accuracy: 0.9776\n",
            "Epoch 4/10\n",
            "1875/1875 [==============================] - 12s 7ms/step - loss: 0.0512 - accuracy: 0.9836\n",
            "Epoch 5/10\n",
            "1875/1875 [==============================] - 13s 7ms/step - loss: 0.0398 - accuracy: 0.9867\n",
            "Epoch 6/10\n",
            "1875/1875 [==============================] - 13s 7ms/step - loss: 0.0308 - accuracy: 0.9897\n",
            "Epoch 7/10\n",
            "1875/1875 [==============================] - 13s 7ms/step - loss: 0.0248 - accuracy: 0.9917\n",
            "Epoch 8/10\n",
            "1875/1875 [==============================] - 13s 7ms/step - loss: 0.0209 - accuracy: 0.9931\n",
            "Epoch 9/10\n",
            "1875/1875 [==============================] - 13s 7ms/step - loss: 0.0167 - accuracy: 0.9941\n",
            "Epoch 10/10\n",
            "1875/1875 [==============================] - 13s 7ms/step - loss: 0.0154 - accuracy: 0.9948\n",
            "313/313 [==============================] - 1s 3ms/step - loss: 0.0808 - accuracy: 0.9785\n",
            "Accuracy (tanh, 256): 97.85%\n"
          ]
        }
      ]
    },
    {
      "cell_type": "markdown",
      "source": [
        "Plot of all the results"
      ],
      "metadata": {
        "id": "fcYZhmo2oGE-"
      }
    },
    {
      "cell_type": "code",
      "source": [
        "for name, history in histories.items():\n",
        "    plt.plot(history.history[\"accuracy\"], label=f\"{name}_test\")\n",
        "   \n",
        "plt.title(\"Training history\")\n",
        "plt.ylabel(\"Accuracy\")\n",
        "plt.xlabel(\"Epoch\")\n",
        "plt.legend()\n",
        "plt.show()"
      ],
      "metadata": {
        "id": "rcs5fJCToF2V",
        "colab": {
          "base_uri": "https://localhost:8080/",
          "height": 295
        },
        "outputId": "25ce04c6-5ba7-4006-b361-dd8e09f2d4d7"
      },
      "execution_count": 7,
      "outputs": [
        {
          "output_type": "display_data",
          "data": {
            "text/plain": [
              "<Figure size 432x288 with 1 Axes>"
            ],
            "image/png": "[encoded data removed]"
          },
          "metadata": {
            "needs_background": "light"
          }
        }
      ]
    },
    {
      "cell_type": "markdown",
      "source": [
        "Saving the Best Model"
      ],
      "metadata": {
        "id": "IHa-2u-HoKRE"
      }
    },
    {
      "cell_type": "code",
      "source": [
        "print(f\"Best model accuracy: {best_accuracy:.2%}\")\n",
        "best_model.save(\"best_model.h5\")"
      ],
      "metadata": {
        "id": "RDE5MeEtoMFk",
        "colab": {
          "base_uri": "https://localhost:8080/"
        },
        "outputId": "43238aa1-25ba-4ea9-a699-387dabf7036e"
      },
      "execution_count": 8,
      "outputs": [
        {
          "output_type": "stream",
          "name": "stdout",
          "text": [
            "Best model accuracy: 98.24%\n"
          ]
        }
      ]
    }
  ]
}