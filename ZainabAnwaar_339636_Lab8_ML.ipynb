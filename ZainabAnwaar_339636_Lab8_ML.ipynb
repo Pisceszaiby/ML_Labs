{
  "nbformat": 4,
  "nbformat_minor": 0,
  "metadata": {
    "colab": {
      "provenance": []
    },
    "kernelspec": {
      "name": "python3",
      "display_name": "Python 3"
    },
    "language_info": {
      "name": "python"
    }
  },
  "cells": [
    {
      "cell_type": "code",
      "source": [
        "import pandas as pd\n",
        "import numpy as np \n",
        "from sklearn.preprocessing import OrdinalEncoder\n",
        "from sklearn.preprocessing import StandardScaler\n",
        "from sklearn.linear_model import LogisticRegression\n",
        "from sklearn.model_selection import GridSearchCV\n",
        "from sklearn import model_selection\n",
        "from sklearn.metrics import confusion_matrix, roc_curve, auc\n",
        "from sklearn.metrics import classification_report\n",
        "import matplotlib.pyplot as plt\n",
        "from sklearn import metrics"
      ],
      "metadata": {
        "id": "MypnRd3lcsp2"
      },
      "execution_count": 111,
      "outputs": []
    },
    {
      "cell_type": "code",
      "execution_count": 96,
      "metadata": {
        "colab": {
          "base_uri": "https://localhost:8080/"
        },
        "id": "3XwuJXKtZiWJ",
        "outputId": "41129cc6-3a9b-4f05-cda4-7c76d68fe3e6"
      },
      "outputs": [
        {
          "output_type": "stream",
          "name": "stdout",
          "text": [
            "      customerID  gender  SeniorCitizen Partner Dependents  tenure  \\\n",
            "0     7590-VHVEG  Female              0     Yes         No       1   \n",
            "1     5575-GNVDE    Male              0      No         No      34   \n",
            "2     3668-QPYBK    Male              0      No         No       2   \n",
            "3     7795-CFOCW    Male              0      No         No      45   \n",
            "4     9237-HQITU  Female              0      No         No       2   \n",
            "...          ...     ...            ...     ...        ...     ...   \n",
            "7038  6840-RESVB    Male              0     Yes        Yes      24   \n",
            "7039  2234-XADUH  Female              0     Yes        Yes      72   \n",
            "7040  4801-JZAZL  Female              0     Yes        Yes      11   \n",
            "7041  8361-LTMKD    Male              1     Yes         No       4   \n",
            "7042  3186-AJIEK    Male              0      No         No      66   \n",
            "\n",
            "     PhoneService     MultipleLines InternetService OnlineSecurity  ...  \\\n",
            "0              No  No phone service             DSL             No  ...   \n",
            "1             Yes                No             DSL            Yes  ...   \n",
            "2             Yes                No             DSL            Yes  ...   \n",
            "3              No  No phone service             DSL            Yes  ...   \n",
            "4             Yes                No     Fiber optic             No  ...   \n",
            "...           ...               ...             ...            ...  ...   \n",
            "7038          Yes               Yes             DSL            Yes  ...   \n",
            "7039          Yes               Yes     Fiber optic             No  ...   \n",
            "7040           No  No phone service             DSL            Yes  ...   \n",
            "7041          Yes               Yes     Fiber optic             No  ...   \n",
            "7042          Yes                No     Fiber optic            Yes  ...   \n",
            "\n",
            "     DeviceProtection TechSupport StreamingTV StreamingMovies        Contract  \\\n",
            "0                  No          No          No              No  Month-to-month   \n",
            "1                 Yes          No          No              No        One year   \n",
            "2                  No          No          No              No  Month-to-month   \n",
            "3                 Yes         Yes          No              No        One year   \n",
            "4                  No          No          No              No  Month-to-month   \n",
            "...               ...         ...         ...             ...             ...   \n",
            "7038              Yes         Yes         Yes             Yes        One year   \n",
            "7039              Yes          No         Yes             Yes        One year   \n",
            "7040               No          No          No              No  Month-to-month   \n",
            "7041               No          No          No              No  Month-to-month   \n",
            "7042              Yes         Yes         Yes             Yes        Two year   \n",
            "\n",
            "     PaperlessBilling              PaymentMethod MonthlyCharges  TotalCharges  \\\n",
            "0                 Yes           Electronic check          29.85         29.85   \n",
            "1                  No               Mailed check          56.95        1889.5   \n",
            "2                 Yes               Mailed check          53.85        108.15   \n",
            "3                  No  Bank transfer (automatic)          42.30       1840.75   \n",
            "4                 Yes           Electronic check          70.70        151.65   \n",
            "...               ...                        ...            ...           ...   \n",
            "7038              Yes               Mailed check          84.80        1990.5   \n",
            "7039              Yes    Credit card (automatic)         103.20        7362.9   \n",
            "7040              Yes           Electronic check          29.60        346.45   \n",
            "7041              Yes               Mailed check          74.40         306.6   \n",
            "7042              Yes  Bank transfer (automatic)         105.65        6844.5   \n",
            "\n",
            "     Churn  \n",
            "0       No  \n",
            "1       No  \n",
            "2      Yes  \n",
            "3       No  \n",
            "4      Yes  \n",
            "...    ...  \n",
            "7038    No  \n",
            "7039    No  \n",
            "7040    No  \n",
            "7041   Yes  \n",
            "7042    No  \n",
            "\n",
            "[7043 rows x 21 columns]\n"
          ]
        }
      ],
      "source": [
        "df = pd.read_csv('telco.csv')\n",
        "print(df)"
      ]
    },
    {
      "cell_type": "code",
      "source": [
        "print(\"Total Missing Values: \",df.isnull().values.any())\n",
        "df.isnull().sum()"
      ],
      "metadata": {
        "id": "HmOy6IjeaGBf",
        "colab": {
          "base_uri": "https://localhost:8080/"
        },
        "outputId": "097a2ab9-0cea-44e5-e9b7-99a264818712"
      },
      "execution_count": 97,
      "outputs": [
        {
          "output_type": "stream",
          "name": "stdout",
          "text": [
            "Total Missing Values:  False\n"
          ]
        },
        {
          "output_type": "execute_result",
          "data": {
            "text/plain": [
              "customerID          0\n",
              "gender              0\n",
              "SeniorCitizen       0\n",
              "Partner             0\n",
              "Dependents          0\n",
              "tenure              0\n",
              "PhoneService        0\n",
              "MultipleLines       0\n",
              "InternetService     0\n",
              "OnlineSecurity      0\n",
              "OnlineBackup        0\n",
              "DeviceProtection    0\n",
              "TechSupport         0\n",
              "StreamingTV         0\n",
              "StreamingMovies     0\n",
              "Contract            0\n",
              "PaperlessBilling    0\n",
              "PaymentMethod       0\n",
              "MonthlyCharges      0\n",
              "TotalCharges        0\n",
              "Churn               0\n",
              "dtype: int64"
            ]
          },
          "metadata": {},
          "execution_count": 97
        }
      ]
    },
    {
      "cell_type": "code",
      "source": [
        "ordinal = OrdinalEncoder()\n",
        "df = ordinal.fit_transform(df)"
      ],
      "metadata": {
        "id": "Ncv-uxUza5Qn"
      },
      "execution_count": 98,
      "outputs": []
    },
    {
      "cell_type": "code",
      "source": [
        "df = pd.DataFrame(df, columns=[\"customerID\",\n",
        "\"gender\",\n",
        "\"SeniorCitizen\",\n",
        "\"Partner\",\n",
        "\"Dependents\",\n",
        "\"tenure\",\n",
        "\"PhoneService\",\n",
        "\"MultipleLines\",\n",
        "\"InternetService\",\n",
        "\"OnlineSecurity\",\n",
        "\"OnlineBackup\",\n",
        "\"DeviceProtection\",\n",
        "\"TechSupport\",\n",
        "\"StreamingTV\",\n",
        "\"StreamingMovies\",\n",
        "\"Contract\",\n",
        "\"PaperlessBilling\",\n",
        "\"PaymentMethod\",\n",
        "\"MonthlyCharges\",\n",
        "\"TotalCharges\",\n",
        "\"Churn\"])"
      ],
      "metadata": {
        "id": "41Jg3ktpbHef"
      },
      "execution_count": 99,
      "outputs": []
    },
    {
      "cell_type": "code",
      "source": [
        "X = df[[\"customerID\",\n",
        "\"gender\",\n",
        "\"SeniorCitizen\",\n",
        "\"Partner\",\n",
        "\"Dependents\",\n",
        "\"tenure\",\n",
        "\"PhoneService\",\n",
        "\"MultipleLines\",\n",
        "\"InternetService\",\n",
        "\"OnlineSecurity\",\n",
        "\"OnlineBackup\",\n",
        "\"DeviceProtection\",\n",
        "\"TechSupport\",\n",
        "\"StreamingTV\",\n",
        "\"StreamingMovies\",\n",
        "\"Contract\",\n",
        "\"PaperlessBilling\",\n",
        "\"PaymentMethod\",\n",
        "\"MonthlyCharges\",\n",
        "\"TotalCharges\"]]\n",
        "y = df[['Churn']]"
      ],
      "metadata": {
        "id": "LwdIQLLCc-0R"
      },
      "execution_count": 100,
      "outputs": []
    },
    {
      "cell_type": "code",
      "source": [
        "scale = StandardScaler()\n",
        "\n",
        "scaledX = scale.fit_transform(X)\n",
        "scaledy = scale.fit_transform(y)\n"
      ],
      "metadata": {
        "id": "OaEBPWfCdyCT"
      },
      "execution_count": 101,
      "outputs": []
    },
    {
      "cell_type": "code",
      "source": [
        "scaledX= df[[\"customerID\",\n",
        "\"gender\",\n",
        "\"SeniorCitizen\",\n",
        "\"Partner\",\n",
        "\"Dependents\",\n",
        "\"tenure\",\n",
        "\"PhoneService\",\n",
        "\"MultipleLines\",\n",
        "\"InternetService\",\n",
        "\"OnlineSecurity\",\n",
        "\"OnlineBackup\",\n",
        "\"DeviceProtection\",\n",
        "\"TechSupport\",\n",
        "\"StreamingTV\",\n",
        "\"StreamingMovies\",\n",
        "\"Contract\",\n",
        "\"PaperlessBilling\",\n",
        "\"PaymentMethod\",\n",
        "\"MonthlyCharges\",\n",
        "\"TotalCharges\"]]\n",
        "scaledy = df[['Churn']]"
      ],
      "metadata": {
        "id": "Q-NpDmRhgaXg"
      },
      "execution_count": 102,
      "outputs": []
    },
    {
      "cell_type": "code",
      "source": [
        "test_ratio = 0.2\n",
        "x_train, x_test, y_train, y_test = model_selection.train_test_split(scaledX, scaledy, test_size=test_ratio)"
      ],
      "metadata": {
        "id": "8AnBN-EkeXjD"
      },
      "execution_count": 103,
      "outputs": []
    },
    {
      "cell_type": "code",
      "source": [
        "print(x_train, x_test)\n",
        "print(\"x_train shape: {}\".format(x_train.shape))\n",
        "print(\"x_test shape: {}\".format(x_test.shape))\n",
        "print(\"y_train shape: {}\".format(y_train.shape))\n",
        "print(\"y_test shape: {}\".format(y_test.shape))\n"
      ],
      "metadata": {
        "id": "bKuaykSkep7D",
        "colab": {
          "base_uri": "https://localhost:8080/"
        },
        "outputId": "f1dffb2c-8229-4de9-c343-e83465781ac8"
      },
      "execution_count": 104,
      "outputs": [
        {
          "output_type": "stream",
          "name": "stdout",
          "text": [
            "      customerID  gender  SeniorCitizen  Partner  Dependents  tenure  \\\n",
            "4776        12.0     0.0            0.0      1.0         0.0     5.0   \n",
            "1070      4370.0     0.0            0.0      0.0         0.0     2.0   \n",
            "2652      3320.0     1.0            0.0      0.0         0.0     1.0   \n",
            "2625       601.0     1.0            0.0      0.0         0.0    56.0   \n",
            "2198      6900.0     0.0            0.0      1.0         1.0    17.0   \n",
            "...          ...     ...            ...      ...         ...     ...   \n",
            "2685      4091.0     0.0            0.0      1.0         0.0    72.0   \n",
            "2209      3049.0     1.0            0.0      1.0         0.0     8.0   \n",
            "3210      6391.0     0.0            0.0      1.0         1.0    64.0   \n",
            "6719      1721.0     1.0            0.0      1.0         0.0    72.0   \n",
            "566       4947.0     1.0            0.0      1.0         1.0    15.0   \n",
            "\n",
            "      PhoneService  MultipleLines  InternetService  OnlineSecurity  \\\n",
            "4776           1.0            0.0              1.0             0.0   \n",
            "1070           1.0            0.0              1.0             0.0   \n",
            "2652           1.0            0.0              0.0             0.0   \n",
            "2625           1.0            2.0              1.0             2.0   \n",
            "2198           1.0            2.0              0.0             0.0   \n",
            "...            ...            ...              ...             ...   \n",
            "2685           1.0            2.0              1.0             2.0   \n",
            "2209           1.0            0.0              2.0             1.0   \n",
            "3210           1.0            0.0              0.0             2.0   \n",
            "6719           1.0            2.0              2.0             1.0   \n",
            "566            1.0            0.0              1.0             2.0   \n",
            "\n",
            "      OnlineBackup  DeviceProtection  TechSupport  StreamingTV  \\\n",
            "4776           0.0               0.0          0.0          0.0   \n",
            "1070           0.0               0.0          0.0          0.0   \n",
            "2652           0.0               0.0          0.0          0.0   \n",
            "2625           2.0               0.0          0.0          0.0   \n",
            "2198           0.0               2.0          2.0          0.0   \n",
            "...            ...               ...          ...          ...   \n",
            "2685           2.0               2.0          0.0          2.0   \n",
            "2209           1.0               1.0          1.0          1.0   \n",
            "3210           0.0               0.0          2.0          2.0   \n",
            "6719           1.0               1.0          1.0          1.0   \n",
            "566            0.0               0.0          2.0          2.0   \n",
            "\n",
            "      StreamingMovies  Contract  PaperlessBilling  PaymentMethod  \\\n",
            "4776              0.0       0.0               1.0            2.0   \n",
            "1070              0.0       0.0               0.0            0.0   \n",
            "2652              2.0       0.0               0.0            3.0   \n",
            "2625              0.0       0.0               1.0            2.0   \n",
            "2198              0.0       1.0               1.0            3.0   \n",
            "...               ...       ...               ...            ...   \n",
            "2685              0.0       2.0               0.0            0.0   \n",
            "2209              1.0       0.0               1.0            0.0   \n",
            "3210              0.0       1.0               0.0            3.0   \n",
            "6719              1.0       2.0               0.0            1.0   \n",
            "566               2.0       1.0               0.0            2.0   \n",
            "\n",
            "      MonthlyCharges  TotalCharges  \n",
            "4776           694.0        3043.0  \n",
            "1070           710.0         811.0  \n",
            "2652           470.0        4565.0  \n",
            "2625          1023.0        4177.0  \n",
            "2198           580.0         140.0  \n",
            "...              ...           ...  \n",
            "2685          1294.0        5687.0  \n",
            "2209            20.0        1066.0  \n",
            "3210           644.0        3477.0  \n",
            "6719           107.0        1435.0  \n",
            "566           1317.0        1151.0  \n",
            "\n",
            "[5634 rows x 20 columns]       customerID  gender  SeniorCitizen  Partner  Dependents  tenure  \\\n",
            "1584      6979.0     0.0            1.0      0.0         0.0    65.0   \n",
            "6649      2829.0     1.0            0.0      1.0         1.0     6.0   \n",
            "1204      4826.0     1.0            0.0      1.0         1.0    18.0   \n",
            "3475      6075.0     0.0            0.0      1.0         1.0     2.0   \n",
            "6595      4049.0     1.0            0.0      1.0         0.0    71.0   \n",
            "...          ...     ...            ...      ...         ...     ...   \n",
            "605       3317.0     1.0            0.0      1.0         0.0    72.0   \n",
            "5128      2897.0     0.0            1.0      1.0         0.0    47.0   \n",
            "4672      5744.0     1.0            0.0      0.0         1.0    13.0   \n",
            "5653      5426.0     0.0            0.0      0.0         0.0     7.0   \n",
            "2316      6590.0     1.0            0.0      0.0         0.0     4.0   \n",
            "\n",
            "      PhoneService  MultipleLines  InternetService  OnlineSecurity  \\\n",
            "1584           0.0            1.0              0.0             0.0   \n",
            "6649           1.0            0.0              2.0             1.0   \n",
            "1204           0.0            1.0              0.0             0.0   \n",
            "3475           1.0            0.0              2.0             1.0   \n",
            "6595           1.0            0.0              0.0             2.0   \n",
            "...            ...            ...              ...             ...   \n",
            "605            1.0            2.0              0.0             2.0   \n",
            "5128           1.0            2.0              1.0             0.0   \n",
            "4672           1.0            0.0              0.0             0.0   \n",
            "5653           1.0            0.0              1.0             0.0   \n",
            "2316           1.0            0.0              2.0             1.0   \n",
            "\n",
            "      OnlineBackup  DeviceProtection  TechSupport  StreamingTV  \\\n",
            "1584           2.0               2.0          0.0          2.0   \n",
            "6649           1.0               1.0          1.0          1.0   \n",
            "1204           0.0               0.0          0.0          0.0   \n",
            "3475           1.0               1.0          1.0          1.0   \n",
            "6595           0.0               2.0          2.0          2.0   \n",
            "...            ...               ...          ...          ...   \n",
            "605            0.0               2.0          2.0          2.0   \n",
            "5128           0.0               2.0          0.0          2.0   \n",
            "4672           0.0               0.0          0.0          0.0   \n",
            "5653           0.0               0.0          0.0          2.0   \n",
            "2316           1.0               1.0          1.0          1.0   \n",
            "\n",
            "      StreamingMovies  Contract  PaperlessBilling  PaymentMethod  \\\n",
            "1584              2.0       2.0               1.0            0.0   \n",
            "6649              1.0       0.0               0.0            1.0   \n",
            "1204              0.0       0.0               0.0            1.0   \n",
            "3475              1.0       1.0               0.0            3.0   \n",
            "6595              2.0       2.0               1.0            2.0   \n",
            "...               ...       ...               ...            ...   \n",
            "605               2.0       2.0               0.0            1.0   \n",
            "5128              2.0       0.0               0.0            2.0   \n",
            "4672              0.0       0.0               0.0            3.0   \n",
            "5653              0.0       0.0               1.0            2.0   \n",
            "2316              1.0       0.0               0.0            3.0   \n",
            "\n",
            "      MonthlyCharges  TotalCharges  \n",
            "1584           429.0        3050.0  \n",
            "6649            26.0         687.0  \n",
            "1204           103.0        3953.0  \n",
            "3475            35.0        2699.0  \n",
            "6595           949.0        4808.0  \n",
            "...              ...           ...  \n",
            "605           1028.0        4978.0  \n",
            "5128          1275.0        4014.0  \n",
            "4672           285.0        5258.0  \n",
            "5653           880.0        4373.0  \n",
            "2316            43.0        5663.0  \n",
            "\n",
            "[1409 rows x 20 columns]\n",
            "x_train shape: (5634, 20)\n",
            "x_test shape: (1409, 20)\n",
            "y_train shape: (5634, 1)\n",
            "y_test shape: (1409, 1)\n"
          ]
        }
      ]
    },
    {
      "cell_type": "code",
      "source": [
        "log_reg = LogisticRegression(solver=\"liblinear\")\n",
        "log_reg.fit(x_train, np.ravel(y_train,order='C'))\n",
        "y_pred=log_reg.predict(x_test)"
      ],
      "metadata": {
        "id": "ZUOYf6NafW-X"
      },
      "execution_count": 105,
      "outputs": []
    },
    {
      "cell_type": "code",
      "source": [
        "confusion_matrix = metrics.confusion_matrix(y_test, y_pred)\n",
        "print(confusion_matrix)"
      ],
      "metadata": {
        "id": "qEyDVOP7j-d2",
        "colab": {
          "base_uri": "https://localhost:8080/"
        },
        "outputId": "d064bcfd-65ce-4908-e551-f6badb78f27c"
      },
      "execution_count": 106,
      "outputs": [
        {
          "output_type": "stream",
          "name": "stdout",
          "text": [
            "[[933 104]\n",
            " [179 193]]\n"
          ]
        }
      ]
    },
    {
      "cell_type": "code",
      "source": [
        "print(\"Accuracy: \",metrics.accuracy_score(y_test, y_pred))\n",
        "print(\"Precision: \",metrics.precision_score(y_test, y_pred))\n",
        "print(\"Recall: \",metrics.recall_score(y_test, y_pred))\n",
        "print(\"F1 Score: \",metrics.f1_score(y_test, y_pred))"
      ],
      "metadata": {
        "id": "RUU29oh4lPzn",
        "colab": {
          "base_uri": "https://localhost:8080/"
        },
        "outputId": "f923051c-357b-42c0-8256-0566db40534a"
      },
      "execution_count": 107,
      "outputs": [
        {
          "output_type": "stream",
          "name": "stdout",
          "text": [
            "Accuracy:  0.7991483321504613\n",
            "Precision:  0.6498316498316499\n",
            "Recall:  0.5188172043010753\n",
            "F1 Score:  0.5769805680119582\n"
          ]
        }
      ]
    },
    {
      "cell_type": "code",
      "source": [
        "\n",
        "param_grid = {'C': [0.1, 1, 10, 100], 'penalty': ['none','l1', 'l2']}\n",
        "grid = GridSearchCV(LogisticRegression(random_state=42, solver=\"liblinear\"), param_grid, cv=5)\n",
        "grid.fit(x_train, np.ravel(y_train,order='C'))\n",
        "print(grid.best_params_)\n",
        "\n"
      ],
      "metadata": {
        "colab": {
          "base_uri": "https://localhost:8080/"
        },
        "id": "c--serb1v7Sh",
        "outputId": "d26791c7-66b7-40d1-b1fe-8f17789626e3"
      },
      "execution_count": 108,
      "outputs": [
        {
          "output_type": "stream",
          "name": "stdout",
          "text": [
            "{'C': 10, 'penalty': 'l1'}\n"
          ]
        },
        {
          "output_type": "stream",
          "name": "stderr",
          "text": [
            "/usr/local/lib/python3.9/dist-packages/sklearn/model_selection/_validation.py:378: FitFailedWarning: \n",
            "20 fits failed out of a total of 60.\n",
            "The score on these train-test partitions for these parameters will be set to nan.\n",
            "If these failures are not expected, you can try to debug them by setting error_score='raise'.\n",
            "\n",
            "Below are more details about the failures:\n",
            "--------------------------------------------------------------------------------\n",
            "20 fits failed with the following error:\n",
            "Traceback (most recent call last):\n",
            "  File \"/usr/local/lib/python3.9/dist-packages/sklearn/model_selection/_validation.py\", line 686, in _fit_and_score\n",
            "    estimator.fit(X_train, y_train, **fit_params)\n",
            "  File \"/usr/local/lib/python3.9/dist-packages/sklearn/linear_model/_logistic.py\", line 1162, in fit\n",
            "    solver = _check_solver(self.solver, self.penalty, self.dual)\n",
            "  File \"/usr/local/lib/python3.9/dist-packages/sklearn/linear_model/_logistic.py\", line 71, in _check_solver\n",
            "    raise ValueError(\"penalty='none' is not supported for the liblinear solver\")\n",
            "ValueError: penalty='none' is not supported for the liblinear solver\n",
            "\n",
            "  warnings.warn(some_fits_failed_message, FitFailedWarning)\n",
            "/usr/local/lib/python3.9/dist-packages/sklearn/model_selection/_search.py:952: UserWarning: One or more of the test scores are non-finite: [       nan 0.79996312 0.80049535        nan 0.80156028 0.80156012\n",
            "        nan 0.80173759 0.80138266        nan 0.80173759 0.80102774]\n",
            "  warnings.warn(\n"
          ]
        }
      ]
    },
    {
      "cell_type": "code",
      "source": [
        "#using the hyperparameter {'C':1, 'penalty':'l1'}\n",
        "model = LogisticRegression(random_state=42, C=1, penalty='l2')\n",
        "model.fit(x_train, np.ravel(y_train,order='C'))\n",
        "# Predicting the test set results using the new model\n",
        "y_pred = model.predict(x_test)\n",
        "print(\"Accuracy: \",metrics.accuracy_score(y_test, y_pred))\n",
        "print(\"Precision: \",metrics.precision_score(y_test, y_pred))\n",
        "print(\"Recall: \",metrics.recall_score(y_test, y_pred))\n",
        "print(\"F1 Score: \",metrics.f1_score(y_test, y_pred))\n",
        "# Evaluating the performance of the new model\n",
        "print(classification_report(y_test, y_pred))\n"
      ],
      "metadata": {
        "colab": {
          "base_uri": "https://localhost:8080/"
        },
        "id": "gThjc1ESOE1T",
        "outputId": "180f530f-849d-4316-f0a4-870fc7890312"
      },
      "execution_count": 109,
      "outputs": [
        {
          "output_type": "stream",
          "name": "stdout",
          "text": [
            "Accuracy:  0.8005677785663591\n",
            "Precision:  0.6382978723404256\n",
            "Recall:  0.5645161290322581\n",
            "F1 Score:  0.5991440798858773\n",
            "              precision    recall  f1-score   support\n",
            "\n",
            "         0.0       0.85      0.89      0.87      1037\n",
            "         1.0       0.64      0.56      0.60       372\n",
            "\n",
            "    accuracy                           0.80      1409\n",
            "   macro avg       0.74      0.72      0.73      1409\n",
            "weighted avg       0.79      0.80      0.80      1409\n",
            "\n"
          ]
        },
        {
          "output_type": "stream",
          "name": "stderr",
          "text": [
            "/usr/local/lib/python3.9/dist-packages/sklearn/linear_model/_logistic.py:458: ConvergenceWarning: lbfgs failed to converge (status=1):\n",
            "STOP: TOTAL NO. of ITERATIONS REACHED LIMIT.\n",
            "\n",
            "Increase the number of iterations (max_iter) or scale the data as shown in:\n",
            "    https://scikit-learn.org/stable/modules/preprocessing.html\n",
            "Please also refer to the documentation for alternative solver options:\n",
            "    https://scikit-learn.org/stable/modules/linear_model.html#logistic-regression\n",
            "  n_iter_i = _check_optimize_result(\n"
          ]
        }
      ]
    },
    {
      "cell_type": "code",
      "source": [
        "# Confusion matrix\n",
        "confusion_matrix = metrics.confusion_matrix(y_test, y_pred)\n",
        "print(confusion_matrix)\n",
        "\n",
        "# ROC curve\n",
        "y_pred_prob = model.predict_proba(x_test)[:,1]\n",
        "fpr, tpr, thresholds = roc_curve(y_test, y_pred_prob)\n",
        "roc_auc = auc(fpr, tpr)\n",
        "\n",
        "plt.figure(figsize=(8,6))\n",
        "plt.plot(fpr, tpr, label='ROC curve (area = %0.2f)' % roc_auc)\n",
        "plt.plot([0, 1], [0, 1], 'k--')\n",
        "plt.xlim([-0.05, 1.0])\n",
        "plt.ylim([-0.05, 1.05])\n",
        "plt.xlabel('False Positive Rate')\n",
        "plt.ylabel('True Positive Rate')\n",
        "plt.title('Receiver operating characteristic (ROC) curve')\n",
        "plt.legend(loc=\"lower right\")\n",
        "plt.show()\n"
      ],
      "metadata": {
        "colab": {
          "base_uri": "https://localhost:8080/",
          "height": 601
        },
        "id": "wqG0QDQJOEv4",
        "outputId": "7cec7c27-79cc-4390-8ec2-9812d769b1fe"
      },
      "execution_count": 110,
      "outputs": [
        {
          "output_type": "stream",
          "name": "stdout",
          "text": [
            "[[918 119]\n",
            " [162 210]]\n"
          ]
        },
        {
          "output_type": "display_data",
          "data": {
            "text/plain": [
              "<Figure size 800x600 with 1 Axes>"
            ],
            "image/png": "[encoded data removed]"
          },
          "metadata": {}
        }
      ]
    }
  ]
}